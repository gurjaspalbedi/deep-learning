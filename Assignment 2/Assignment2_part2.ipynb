{
 "cells": [
  {
   "cell_type": "code",
   "execution_count": 1,
   "metadata": {
    "colab": {},
    "colab_type": "code",
    "id": "bu-AIG_D8wmM"
   },
   "outputs": [],
   "source": [
    "import torch.nn as nn\n",
    "import librosa\n",
    "import numpy as np\n",
    "import torch\n",
    "import torch.utils.data\n",
    "import matplotlib.pyplot as plt\n",
    "import IPython.display as ipd"
   ]
  },
  {
   "cell_type": "code",
   "execution_count": 2,
   "metadata": {
    "colab": {},
    "colab_type": "code",
    "id": "pZE2A1TJ9Yh5"
   },
   "outputs": [],
   "source": [
    "# from google.colab import files\n",
    "# files.upload()\n"
   ]
  },
  {
   "cell_type": "code",
   "execution_count": 3,
   "metadata": {
    "colab": {},
    "colab_type": "code",
    "id": "C2nUQYKf952Z"
   },
   "outputs": [],
   "source": [
    "# files.upload()"
   ]
  },
  {
   "cell_type": "code",
   "execution_count": 4,
   "metadata": {
    "colab": {},
    "colab_type": "code",
    "id": "PttlgK2t8wmP"
   },
   "outputs": [],
   "source": [
    "s, sr=librosa.load('data/train_clean_male.wav', sr=None)\n",
    "S=librosa.stft(s, n_fft=1024, hop_length=512)\n",
    "sn, sr=librosa.load('data/train_dirty_male.wav', sr=None)\n",
    "X=librosa.stft(sn, n_fft=1024, hop_length=512)"
   ]
  },
  {
   "cell_type": "code",
   "execution_count": 5,
   "metadata": {
    "colab": {},
    "colab_type": "code",
    "id": "QQeyZ_968wmS"
   },
   "outputs": [],
   "source": [
    "s_abs = np.abs(S)\n",
    "x_abs = np.abs(X)\n",
    "s = torch.tensor(np.transpose(s_abs)).cuda()\n",
    "x = torch.tensor(np.transpose(x_abs)).cuda()"
   ]
  },
  {
   "cell_type": "code",
   "execution_count": 6,
   "metadata": {
    "colab": {
     "base_uri": "https://localhost:8080/",
     "height": 50
    },
    "colab_type": "code",
    "id": "LyMB9Fu18wmU",
    "outputId": "2656d3b7-d216-4adb-b526-3e64a92a26e2"
   },
   "outputs": [
    {
     "name": "stdout",
     "output_type": "stream",
     "text": [
      "2459\n",
      "torch.Size([2459, 513])\n"
     ]
    }
   ],
   "source": [
    "print(s.shape[0])\n",
    "print(x.shape)"
   ]
  },
  {
   "cell_type": "code",
   "execution_count": 7,
   "metadata": {
    "scrolled": false
   },
   "outputs": [
    {
     "name": "stdout",
     "output_type": "stream",
     "text": [
      "(2440,)\n",
      "(2440,)\n",
      "torch.Size([20, 513])\n"
     ]
    }
   ],
   "source": [
    "x_frames = []\n",
    "target_frames = []\n",
    "for t in range(s.shape[0]-19):\n",
    "    frame_x = s[t:t+20,:]\n",
    "#     print(frame_x.shape)\n",
    "    frame_y = x[t:t+20,:]\n",
    "    x_frames.append(frame_x)\n",
    "    target_frames.append(frame_y)\n",
    "\n",
    "print(np.array(x_frames).shape)\n",
    "print(np.array(target_frames).shape)\n",
    "\n",
    "print(x_frames[2439].shape)"
   ]
  },
  {
   "cell_type": "code",
   "execution_count": 8,
   "metadata": {
    "colab": {},
    "colab_type": "code",
    "id": "C9KOJFI-8wmY"
   },
   "outputs": [
    {
     "name": "stdout",
     "output_type": "stream",
     "text": [
      "15\n",
      "15\n"
     ]
    }
   ],
   "source": [
    "BATCH = 171\n",
    "train_loader = torch.utils.data.DataLoader(x_frames, batch_size=BATCH)\n",
    "test_loader = torch.utils.data.DataLoader(target_frames, batch_size=BATCH)\n",
    "print(len(train_loader))\n",
    "print(len(test_loader))"
   ]
  },
  {
   "cell_type": "code",
   "execution_count": 9,
   "metadata": {
    "colab": {
     "base_uri": "https://localhost:8080/",
     "height": 34
    },
    "colab_type": "code",
    "id": "abH0JMoS8wmb",
    "outputId": "abd06abf-3e2d-4f12-92b1-ebca7e5e195a"
   },
   "outputs": [],
   "source": [
    "# test_iter = iter(train_loader)\n",
    "# test_data = test_iter.next()\n",
    "# print(test_data.shape)"
   ]
  },
  {
   "cell_type": "code",
   "execution_count": 10,
   "metadata": {
    "colab": {
     "base_uri": "https://localhost:8080/",
     "height": 34
    },
    "colab_type": "code",
    "id": "qfhXwM358wme",
    "outputId": "1cd3d4fe-466f-4140-f748-92e1d6efa40a"
   },
   "outputs": [],
   "source": [
    "# my_data = test_data.squeeze().cuda()\n",
    "# print(my_data.shape)"
   ]
  },
  {
   "cell_type": "code",
   "execution_count": 11,
   "metadata": {
    "colab": {
     "base_uri": "https://localhost:8080/",
     "height": 34
    },
    "colab_type": "code",
    "id": "uIkXsyNkGkPu",
    "outputId": "5b2c72da-a2eb-4596-f0a2-8cfeae9e3e8a"
   },
   "outputs": [
    {
     "data": {
      "text/plain": [
       "511.0"
      ]
     },
     "execution_count": 11,
     "metadata": {},
     "output_type": "execute_result"
    }
   ],
   "source": [
    "def get_shape(input, filter, padding, stride):\n",
    "  return (((input - filter + (2*padding)) / stride)) + 1\n",
    "\n",
    "get_shape(512, 2,0, 1)"
   ]
  },
  {
   "cell_type": "code",
   "execution_count": 15,
   "metadata": {
    "colab": {},
    "colab_type": "code",
    "id": "ZcR5OJ538wmh"
   },
   "outputs": [],
   "source": [
    "class NeuralNetwork(nn.Module):\n",
    "  \n",
    "  def __init__(self):\n",
    "    super(NeuralNetwork, self).__init__()\n",
    "    \n",
    "    \n",
    "    self.conv1 = nn.Sequential(\n",
    "            nn.Conv2d(1, 16, kernel_size=2, stride=1),\n",
    "            nn.ReLU(),       \n",
    "            nn.MaxPool2d(kernel_size=2, stride=1))\n",
    "\n",
    "    \n",
    "    self.conv2 = nn.Sequential(\n",
    "            nn.Conv2d(16,32, kernel_size=2, stride=1),\n",
    "            nn.ReLU(),\n",
    "            nn.MaxPool2d(kernel_size=2, stride=1))\n",
    "    \n",
    "    \n",
    "    self.fc1 = nn.Linear(in_features=int(260608), out_features=513)\n",
    "    \n",
    "  def forward(self, data):\n",
    "\n",
    "    data = data[:,np.newaxis,:, :]\n",
    "    print(\"first\")\n",
    "    print(data.shape)\n",
    "    output = self.conv1(data)\n",
    "    print(\"output from first\")\n",
    "    print(data.shape)\n",
    "    output = self.conv2(output)\n",
    "    print(\"output from second\")\n",
    "    print(output.shape)\n",
    "    output = output.reshape(output.shape[0], -1)\n",
    "    print(\"input to fully connected\")\n",
    "    print(output.shape)\n",
    "    output = self.fc1(output)\n",
    "#     final = torch.nn.functional.relu(output)\n",
    "    final = output\n",
    "    print(\"final shape\")\n",
    "    print(final.shape)\n",
    "    return final"
   ]
  },
  {
   "cell_type": "code",
   "execution_count": 16,
   "metadata": {
    "colab": {
     "base_uri": "https://localhost:8080/",
     "height": 336
    },
    "colab_type": "code",
    "id": "v7EmSmf2HBUu",
    "outputId": "fcbb403a-a54c-4851-fc84-fc62548bd727"
   },
   "outputs": [],
   "source": [
    "neural_network = NeuralNetwork().cuda()"
   ]
  },
  {
   "cell_type": "code",
   "execution_count": 17,
   "metadata": {
    "colab": {
     "base_uri": "https://localhost:8080/",
     "height": 1254
    },
    "colab_type": "code",
    "id": "ftzpTpkH8wmk",
    "outputId": "e02630eb-e7b2-470d-a898-7577c18319a0",
    "scrolled": false
   },
   "outputs": [
    {
     "name": "stdout",
     "output_type": "stream",
     "text": [
      "first\n",
      "torch.Size([171, 1, 20, 513])\n",
      "output from first\n",
      "torch.Size([171, 1, 20, 513])\n",
      "output from second\n",
      "torch.Size([171, 32, 16, 509])\n",
      "input to fully connected\n",
      "torch.Size([171, 260608])\n",
      "final shape\n",
      "torch.Size([171, 513])\n",
      "target set\n",
      "torch.Size([171, 20, 513])\n",
      "network shape\n",
      "torch.Size([171, 513])\n"
     ]
    },
    {
     "ename": "RuntimeError",
     "evalue": "The size of tensor a (171) must match the size of tensor b (20) at non-singleton dimension 1",
     "output_type": "error",
     "traceback": [
      "\u001b[1;31m---------------------------------------------------------------------------\u001b[0m",
      "\u001b[1;31mRuntimeError\u001b[0m                              Traceback (most recent call last)",
      "\u001b[1;32m<ipython-input-17-6e5e9f305fa8>\u001b[0m in \u001b[0;36m<module>\u001b[1;34m()\u001b[0m\n\u001b[0;32m     19\u001b[0m             \u001b[0mprint\u001b[0m\u001b[1;33m(\u001b[0m\u001b[1;34m\"network shape\"\u001b[0m\u001b[1;33m)\u001b[0m\u001b[1;33m\u001b[0m\u001b[0m\n\u001b[0;32m     20\u001b[0m             \u001b[0mprint\u001b[0m\u001b[1;33m(\u001b[0m\u001b[0mnetwork_output\u001b[0m\u001b[1;33m.\u001b[0m\u001b[0mshape\u001b[0m\u001b[1;33m)\u001b[0m\u001b[1;33m\u001b[0m\u001b[0m\n\u001b[1;32m---> 21\u001b[1;33m             \u001b[0mloss\u001b[0m \u001b[1;33m=\u001b[0m \u001b[0mloss_function\u001b[0m\u001b[1;33m(\u001b[0m\u001b[0mnetwork_output\u001b[0m \u001b[1;33m,\u001b[0m \u001b[0mtarget_set\u001b[0m\u001b[1;33m)\u001b[0m\u001b[1;33m\u001b[0m\u001b[0m\n\u001b[0m\u001b[0;32m     22\u001b[0m             \u001b[0mloss\u001b[0m\u001b[1;33m.\u001b[0m\u001b[0mbackward\u001b[0m\u001b[1;33m(\u001b[0m\u001b[1;33m)\u001b[0m\u001b[1;33m\u001b[0m\u001b[0m\n\u001b[0;32m     23\u001b[0m             \u001b[0moptimizer\u001b[0m\u001b[1;33m.\u001b[0m\u001b[0mstep\u001b[0m\u001b[1;33m(\u001b[0m\u001b[1;33m)\u001b[0m\u001b[1;33m\u001b[0m\u001b[0m\n",
      "\u001b[1;32m~\\Anaconda3\\lib\\site-packages\\torch\\nn\\modules\\module.py\u001b[0m in \u001b[0;36m__call__\u001b[1;34m(self, *input, **kwargs)\u001b[0m\n\u001b[0;32m    487\u001b[0m             \u001b[0mresult\u001b[0m \u001b[1;33m=\u001b[0m \u001b[0mself\u001b[0m\u001b[1;33m.\u001b[0m\u001b[0m_slow_forward\u001b[0m\u001b[1;33m(\u001b[0m\u001b[1;33m*\u001b[0m\u001b[0minput\u001b[0m\u001b[1;33m,\u001b[0m \u001b[1;33m**\u001b[0m\u001b[0mkwargs\u001b[0m\u001b[1;33m)\u001b[0m\u001b[1;33m\u001b[0m\u001b[0m\n\u001b[0;32m    488\u001b[0m         \u001b[1;32melse\u001b[0m\u001b[1;33m:\u001b[0m\u001b[1;33m\u001b[0m\u001b[0m\n\u001b[1;32m--> 489\u001b[1;33m             \u001b[0mresult\u001b[0m \u001b[1;33m=\u001b[0m \u001b[0mself\u001b[0m\u001b[1;33m.\u001b[0m\u001b[0mforward\u001b[0m\u001b[1;33m(\u001b[0m\u001b[1;33m*\u001b[0m\u001b[0minput\u001b[0m\u001b[1;33m,\u001b[0m \u001b[1;33m**\u001b[0m\u001b[0mkwargs\u001b[0m\u001b[1;33m)\u001b[0m\u001b[1;33m\u001b[0m\u001b[0m\n\u001b[0m\u001b[0;32m    490\u001b[0m         \u001b[1;32mfor\u001b[0m \u001b[0mhook\u001b[0m \u001b[1;32min\u001b[0m \u001b[0mself\u001b[0m\u001b[1;33m.\u001b[0m\u001b[0m_forward_hooks\u001b[0m\u001b[1;33m.\u001b[0m\u001b[0mvalues\u001b[0m\u001b[1;33m(\u001b[0m\u001b[1;33m)\u001b[0m\u001b[1;33m:\u001b[0m\u001b[1;33m\u001b[0m\u001b[0m\n\u001b[0;32m    491\u001b[0m             \u001b[0mhook_result\u001b[0m \u001b[1;33m=\u001b[0m \u001b[0mhook\u001b[0m\u001b[1;33m(\u001b[0m\u001b[0mself\u001b[0m\u001b[1;33m,\u001b[0m \u001b[0minput\u001b[0m\u001b[1;33m,\u001b[0m \u001b[0mresult\u001b[0m\u001b[1;33m)\u001b[0m\u001b[1;33m\u001b[0m\u001b[0m\n",
      "\u001b[1;32m~\\Anaconda3\\lib\\site-packages\\torch\\nn\\modules\\loss.py\u001b[0m in \u001b[0;36mforward\u001b[1;34m(self, input, target)\u001b[0m\n\u001b[0;32m    433\u001b[0m     \u001b[1;33m@\u001b[0m\u001b[0mweak_script_method\u001b[0m\u001b[1;33m\u001b[0m\u001b[0m\n\u001b[0;32m    434\u001b[0m     \u001b[1;32mdef\u001b[0m \u001b[0mforward\u001b[0m\u001b[1;33m(\u001b[0m\u001b[0mself\u001b[0m\u001b[1;33m,\u001b[0m \u001b[0minput\u001b[0m\u001b[1;33m,\u001b[0m \u001b[0mtarget\u001b[0m\u001b[1;33m)\u001b[0m\u001b[1;33m:\u001b[0m\u001b[1;33m\u001b[0m\u001b[0m\n\u001b[1;32m--> 435\u001b[1;33m         \u001b[1;32mreturn\u001b[0m \u001b[0mF\u001b[0m\u001b[1;33m.\u001b[0m\u001b[0mmse_loss\u001b[0m\u001b[1;33m(\u001b[0m\u001b[0minput\u001b[0m\u001b[1;33m,\u001b[0m \u001b[0mtarget\u001b[0m\u001b[1;33m,\u001b[0m \u001b[0mreduction\u001b[0m\u001b[1;33m=\u001b[0m\u001b[0mself\u001b[0m\u001b[1;33m.\u001b[0m\u001b[0mreduction\u001b[0m\u001b[1;33m)\u001b[0m\u001b[1;33m\u001b[0m\u001b[0m\n\u001b[0m\u001b[0;32m    436\u001b[0m \u001b[1;33m\u001b[0m\u001b[0m\n\u001b[0;32m    437\u001b[0m \u001b[1;33m\u001b[0m\u001b[0m\n",
      "\u001b[1;32m~\\Anaconda3\\lib\\site-packages\\torch\\nn\\functional.py\u001b[0m in \u001b[0;36mmse_loss\u001b[1;34m(input, target, size_average, reduce, reduction)\u001b[0m\n\u001b[0;32m   2153\u001b[0m             \u001b[0mret\u001b[0m \u001b[1;33m=\u001b[0m \u001b[0mtorch\u001b[0m\u001b[1;33m.\u001b[0m\u001b[0mmean\u001b[0m\u001b[1;33m(\u001b[0m\u001b[0mret\u001b[0m\u001b[1;33m)\u001b[0m \u001b[1;32mif\u001b[0m \u001b[0mreduction\u001b[0m \u001b[1;33m==\u001b[0m \u001b[1;34m'mean'\u001b[0m \u001b[1;32melse\u001b[0m \u001b[0mtorch\u001b[0m\u001b[1;33m.\u001b[0m\u001b[0msum\u001b[0m\u001b[1;33m(\u001b[0m\u001b[0mret\u001b[0m\u001b[1;33m)\u001b[0m\u001b[1;33m\u001b[0m\u001b[0m\n\u001b[0;32m   2154\u001b[0m     \u001b[1;32melse\u001b[0m\u001b[1;33m:\u001b[0m\u001b[1;33m\u001b[0m\u001b[0m\n\u001b[1;32m-> 2155\u001b[1;33m         \u001b[0mexpanded_input\u001b[0m\u001b[1;33m,\u001b[0m \u001b[0mexpanded_target\u001b[0m \u001b[1;33m=\u001b[0m \u001b[0mtorch\u001b[0m\u001b[1;33m.\u001b[0m\u001b[0mbroadcast_tensors\u001b[0m\u001b[1;33m(\u001b[0m\u001b[0minput\u001b[0m\u001b[1;33m,\u001b[0m \u001b[0mtarget\u001b[0m\u001b[1;33m)\u001b[0m\u001b[1;33m\u001b[0m\u001b[0m\n\u001b[0m\u001b[0;32m   2156\u001b[0m         \u001b[0mret\u001b[0m \u001b[1;33m=\u001b[0m \u001b[0mtorch\u001b[0m\u001b[1;33m.\u001b[0m\u001b[0m_C\u001b[0m\u001b[1;33m.\u001b[0m\u001b[0m_nn\u001b[0m\u001b[1;33m.\u001b[0m\u001b[0mmse_loss\u001b[0m\u001b[1;33m(\u001b[0m\u001b[0mexpanded_input\u001b[0m\u001b[1;33m,\u001b[0m \u001b[0mexpanded_target\u001b[0m\u001b[1;33m,\u001b[0m \u001b[0m_Reduction\u001b[0m\u001b[1;33m.\u001b[0m\u001b[0mget_enum\u001b[0m\u001b[1;33m(\u001b[0m\u001b[0mreduction\u001b[0m\u001b[1;33m)\u001b[0m\u001b[1;33m)\u001b[0m\u001b[1;33m\u001b[0m\u001b[0m\n\u001b[0;32m   2157\u001b[0m     \u001b[1;32mreturn\u001b[0m \u001b[0mret\u001b[0m\u001b[1;33m\u001b[0m\u001b[0m\n",
      "\u001b[1;32m~\\Anaconda3\\lib\\site-packages\\torch\\functional.py\u001b[0m in \u001b[0;36mbroadcast_tensors\u001b[1;34m(*tensors)\u001b[0m\n\u001b[0;32m     48\u001b[0m                 [0, 1, 2]])\n\u001b[0;32m     49\u001b[0m     \"\"\"\n\u001b[1;32m---> 50\u001b[1;33m     \u001b[1;32mreturn\u001b[0m \u001b[0mtorch\u001b[0m\u001b[1;33m.\u001b[0m\u001b[0m_C\u001b[0m\u001b[1;33m.\u001b[0m\u001b[0m_VariableFunctions\u001b[0m\u001b[1;33m.\u001b[0m\u001b[0mbroadcast_tensors\u001b[0m\u001b[1;33m(\u001b[0m\u001b[0mtensors\u001b[0m\u001b[1;33m)\u001b[0m\u001b[1;33m\u001b[0m\u001b[0m\n\u001b[0m\u001b[0;32m     51\u001b[0m \u001b[1;33m\u001b[0m\u001b[0m\n\u001b[0;32m     52\u001b[0m \u001b[1;33m\u001b[0m\u001b[0m\n",
      "\u001b[1;31mRuntimeError\u001b[0m: The size of tensor a (171) must match the size of tensor b (20) at non-singleton dimension 1"
     ]
    }
   ],
   "source": [
    "loss_function= nn.MSELoss()\n",
    "para = neural_network.parameters()\n",
    "optimizer = torch.optim.Adam(params=para, lr=0.001)\n",
    "loss_list = []\n",
    "epochs = 500\n",
    "for i in range(epochs):\n",
    "    input_iter = iter(train_loader)\n",
    "    target_iter = iter(test_loader)\n",
    "    while True:\n",
    "        try:\n",
    "            input_set = input_iter.next()\n",
    "            target_set = target_iter.next()\n",
    "            input_set = input_set.cuda()\n",
    "            target_set = target_set.cuda()\n",
    "            optimizer.zero_grad()\n",
    "            network_output  = neural_network(input_set)\n",
    "            print(\"target set\")\n",
    "            print(target_set.shape)\n",
    "            print(\"network shape\")\n",
    "            print(network_output.shape)\n",
    "            loss = loss_function(network_output , target_set)\n",
    "            loss.backward()\n",
    "            optimizer.step()\n",
    "        except StopIteration:\n",
    "            break\n",
    "    loss_list.append(loss.data.cpu().numpy())\n",
    "print(loss.data)\n",
    "plt.plot(range(epochs), loss_list)\n",
    "plt.show()      "
   ]
  },
  {
   "cell_type": "code",
   "execution_count": null,
   "metadata": {
    "colab": {},
    "colab_type": "code",
    "id": "UsCtFjE68wmn"
   },
   "outputs": [],
   "source": [
    "def test_audio(input_file_path, output_file_path):\n",
    "    st, sr=librosa.load(input_file_path, sr=None)\n",
    "    test = librosa.stft(st, n_fft=1024, hop_length=512)\n",
    "    test_abs = torch.tensor(np.abs(test))\n",
    "    test_abs = np.transpose(test_abs)\n",
    "    test_loader = torch.utils.data.DataLoader(test_abs, batch_size=test_abs.shape[0])\n",
    "    t_iter = iter(test_loader)\n",
    "    with torch.no_grad():\n",
    "        while True:\n",
    "            try:\n",
    "                data = t_iter.next()\n",
    "#                 print(data.shape)\n",
    "                data = data.cuda()\n",
    "                output = neural_network(data)\n",
    "            except StopIteration:\n",
    "                break \n",
    "        spec = (test / np.abs(test)) * output.cpu().numpy().T\n",
    "        spec_istft = librosa.istft(spec, hop_length=512)\n",
    "        librosa.output.write_wav(output_file_path, spec_istft, sr)"
   ]
  },
  {
   "cell_type": "code",
   "execution_count": null,
   "metadata": {
    "colab": {},
    "colab_type": "code",
    "id": "qGO3Mn1d8wmp"
   },
   "outputs": [],
   "source": [
    "# testing on the audio 1\n",
    "test_audio('data/test_x_01.wav', 'test_s_01_recons.wav')"
   ]
  },
  {
   "cell_type": "code",
   "execution_count": null,
   "metadata": {},
   "outputs": [],
   "source": [
    "ipd.Audio('test_s_01_recons.wav')"
   ]
  },
  {
   "cell_type": "code",
   "execution_count": null,
   "metadata": {},
   "outputs": [],
   "source": [
    "# testing on the audio 2\n",
    "test_audio('data/test_x_02.wav', 'test_s_02_recons.wav')\n"
   ]
  },
  {
   "cell_type": "code",
   "execution_count": null,
   "metadata": {},
   "outputs": [],
   "source": [
    "ipd.Audio('test_s_02_recons.wav')"
   ]
  },
  {
   "cell_type": "code",
   "execution_count": null,
   "metadata": {},
   "outputs": [],
   "source": [
    "#checking how the original train file comes out to be\n",
    "test_audio('data/train_dirty_male.wav', 'train_dirty_male_recons.wav')"
   ]
  },
  {
   "cell_type": "code",
   "execution_count": null,
   "metadata": {},
   "outputs": [],
   "source": [
    "ipd.Audio('train_dirty_male_recons.wav')"
   ]
  }
 ],
 "metadata": {
  "accelerator": "GPU",
  "colab": {
   "collapsed_sections": [],
   "name": "Assignment2_part2.ipynb",
   "provenance": [],
   "version": "0.3.2"
  },
  "kernelspec": {
   "display_name": "Python 3",
   "language": "python",
   "name": "python3"
  },
  "language_info": {
   "codemirror_mode": {
    "name": "ipython",
    "version": 3
   },
   "file_extension": ".py",
   "mimetype": "text/x-python",
   "name": "python",
   "nbconvert_exporter": "python",
   "pygments_lexer": "ipython3",
   "version": "3.6.5"
  }
 },
 "nbformat": 4,
 "nbformat_minor": 1
}
