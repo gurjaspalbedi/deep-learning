{
 "cells": [
  {
   "cell_type": "code",
   "execution_count": 107,
   "metadata": {},
   "outputs": [],
   "source": [
    "import torch\n",
    "import os\n",
    "import pickle\n",
    "import numpy as np\n",
    "import itertools\n",
    "import librosa\n",
    "import random\n",
    "from random import shuffle\n",
    "import codecs\n",
    "import errno\n",
    "import matplotlib.pyplot as plt\n",
    "import numpy as np\n",
    "import os\n",
    "from PIL import Image\n",
    "import random\n",
    "import torch\n",
    "from torch import nn\n",
    "from torch import optim\n",
    "import torch.nn.functional as F\n",
    "import torchvision.datasets.mnist\n",
    "from torchvision import transforms\n",
    "from tqdm import tqdm\n",
    "import math"
   ]
  },
  {
   "cell_type": "code",
   "execution_count": 108,
   "metadata": {},
   "outputs": [
    {
     "name": "stdout",
     "output_type": "stream",
     "text": [
      "G:\\Git\\Deep Learning\\Assignment4\n"
     ]
    }
   ],
   "source": [
    "print(os.getcwd())"
   ]
  },
  {
   "cell_type": "code",
   "execution_count": 109,
   "metadata": {},
   "outputs": [],
   "source": [
    "file = open(\"hw4_trs.pkl\",'rb')\n",
    "train_data = pickle.load(file)\n",
    "file.close()\n",
    "\n",
    "file = open(\"hw4_tes.pkl\",'rb')\n",
    "test_data = pickle.load(file)\n",
    "file.close()"
   ]
  },
  {
   "cell_type": "code",
   "execution_count": 110,
   "metadata": {},
   "outputs": [],
   "source": [
    "train_data.shape\n",
    "training = []"
   ]
  },
  {
   "cell_type": "code",
   "execution_count": 111,
   "metadata": {},
   "outputs": [],
   "source": [
    "training = []\n",
    "for sig in range(500):\n",
    "    stft = librosa.stft(train_data[sig], n_fft=1024, hop_length=512)\n",
    "    stft.resize((513,200))\n",
    "    training.append(np.abs(stft).T)"
   ]
  },
  {
   "cell_type": "code",
   "execution_count": 112,
   "metadata": {},
   "outputs": [
    {
     "data": {
      "text/plain": [
       "(200, 513)"
      ]
     },
     "execution_count": 112,
     "metadata": {},
     "output_type": "execute_result"
    }
   ],
   "source": [
    "training[0].shape"
   ]
  },
  {
   "cell_type": "code",
   "execution_count": 113,
   "metadata": {},
   "outputs": [
    {
     "data": {
      "text/plain": [
       "(200, 22631)"
      ]
     },
     "execution_count": 113,
     "metadata": {},
     "output_type": "execute_result"
    }
   ],
   "source": [
    "test_data.shape"
   ]
  },
  {
   "cell_type": "code",
   "execution_count": 114,
   "metadata": {},
   "outputs": [
    {
     "data": {
      "text/plain": [
       "array([[ 0.00127268, -0.00018181,  0.00027272, ..., -0.00363621,\n",
       "        -0.0034544 , -0.00418165],\n",
       "       [-0.00023365,  0.00023365,  0.        , ..., -0.00700938,\n",
       "        -0.00763243, -0.00957948],\n",
       "       [ 0.0014514 , -0.00019352,  0.00029028, ..., -0.00232224,\n",
       "        -0.00299957, -0.00261252],\n",
       "       ...,\n",
       "       [ 0.00022017,  0.00036695,  0.00014678, ...,  0.02803493,\n",
       "         0.01812729,  0.00910034],\n",
       "       [ 0.00011644,  0.00034932,  0.00034932, ..., -0.06386784,\n",
       "        -0.08779645, -0.10881403],\n",
       "       [ 0.00034393,  0.00080251,  0.00074519, ..., -0.00045858,\n",
       "        -0.00424185, -0.00492971]], dtype=float32)"
      ]
     },
     "execution_count": 114,
     "metadata": {},
     "output_type": "execute_result"
    }
   ],
   "source": [
    "test_data"
   ]
  },
  {
   "cell_type": "code",
   "execution_count": 115,
   "metadata": {},
   "outputs": [
    {
     "data": {
      "text/plain": [
       "array([ 3,  4,  5,  6,  7,  8,  9, 11, 12, 13, 14, 15, 16, 17, 18, 19])"
      ]
     },
     "execution_count": 115,
     "metadata": {},
     "output_type": "execute_result"
    }
   ],
   "source": [
    "np.append(np.arange(3,10), np.arange(11,20))"
   ]
  },
  {
   "cell_type": "code",
   "execution_count": 116,
   "metadata": {},
   "outputs": [
    {
     "data": {
      "text/plain": [
       "(9, 16180)"
      ]
     },
     "execution_count": 116,
     "metadata": {},
     "output_type": "execute_result"
    }
   ],
   "source": [
    "train_data[0:9,:].shape"
   ]
  },
  {
   "cell_type": "code",
   "execution_count": 117,
   "metadata": {},
   "outputs": [
    {
     "name": "stdout",
     "output_type": "stream",
     "text": [
      "None\n"
     ]
    }
   ],
   "source": [
    "positive_list = []\n",
    "negative_list = []\n",
    "m = [1,2,3]\n",
    "print(shuffle(m))"
   ]
  },
  {
   "cell_type": "code",
   "execution_count": 118,
   "metadata": {},
   "outputs": [],
   "source": [
    "positive_pairs = np.zeros((50,9,2))\n",
    "negative_pairs = np.zeros((50,9,2))\n",
    "person = np.zeros((50,9))\n",
    "for i in range(50):\n",
    "    complete_set = set(range(500))\n",
    "    positive_set = set(range(i, i+10))\n",
    "    negative_set = set(complete_set - positive_set)\n",
    "\n",
    "    # print(list(positive_set))\n",
    "    positive_list = list(positive_set)\n",
    "    # print(len(positive_list))\n",
    "    negative_list = list(negative_set)\n",
    "\n",
    "    shuffle(positive_list)\n",
    "    shuffle(negative_list)\n",
    "\n",
    "    positive_combinations = np.array(random.sample(list(itertools.combinations(positive_list, 2)), 9) )\n",
    "    negative_combinations = np.array(random.sample(list(itertools.product(positive_list, negative_list)), 9))\n",
    "    positive_pairs[i] = positive_combinations\n",
    "    negative_pairs[i] = negative_combinations\n",
    "    person[i] = i"
   ]
  },
  {
   "cell_type": "code",
   "execution_count": 119,
   "metadata": {},
   "outputs": [],
   "source": [
    "positive_pairs_reshaped = positive_pairs.reshape((50 * 9), 2)\n",
    "negative_pairs_reshaped = positive_pairs.reshape((50 * 9), 2)\n",
    "person = person.reshape((450, 1))"
   ]
  },
  {
   "cell_type": "code",
   "execution_count": 121,
   "metadata": {},
   "outputs": [],
   "source": [
    "# for j in range(len(positive_pairs)):\n",
    "# #     j will be from 0 to 50\n",
    "#     positive_list = []\n",
    "#     negative_list = []\n",
    "#     for k in range(len(positive_pairs)):\n",
    "        \n",
    "#         pos_index1  =  positive_pairs[k][0]\n",
    "#         pos_index2  =  positive_pairs[k][1]\n",
    "#         print(pos_index2)\n",
    "#         neg_index1  =  negative_pairs[k][0]\n",
    "#         neg_index2  =  negative_pairs[k][1]\n",
    "        \n",
    "#         pos_pair = (train_data[pos_index1, :], train_data[pos_index2, :], math.floor(pos_index1 / 50))\n",
    "#         neg_pair = (train_data[neg_index1, :], train_data[neg_index2, :], math.floor(pos_index1 / 50))\n",
    "        \n",
    "        "
   ]
  },
  {
   "cell_type": "code",
   "execution_count": 324,
   "metadata": {},
   "outputs": [],
   "source": [
    "# ref: https://becominghuman.ai/siamese-networks-algorithm-applications-and-pytorch-implementation-4ffa3304c18\n",
    "\n",
    "\n",
    "# class LSTM(nn.Module):\n",
    "    \n",
    "#     def __init__(self, input_size, hidden_size):\n",
    "#         super(LSTM, self).__init__()\n",
    "#         self.rnn = nn.LSTM(input_size=input_size, hidden_size=hidden_size)\n",
    "#         self.linear = nn.Linear(hidden_size, 513)\n",
    "#         self.act = torch.sigmoid\n",
    "      \n",
    "#     def forward(self, data):\n",
    "#         res = []\n",
    "#         for i in range(2): # Siamese nets; sharing weights\n",
    "#             x = data[i]\n",
    "#             print('data')\n",
    "#             print(self.rnn)\n",
    "#             pred, hidden = self.rnn(x[0])\n",
    "#             pred = self.act(self.linear(pred)).view(pred.data.shape[0], BATCH, 513)\n",
    "#             res.append(pred)\n",
    "         \n",
    "#         res = torch.abs(res[1] - res[0])\n",
    "#         res = self.linear2(res)\n",
    "#         return res"
   ]
  },
  {
   "cell_type": "code",
   "execution_count": 358,
   "metadata": {},
   "outputs": [],
   "source": [
    "train_positive_pair_loader = torch.utils.data.DataLoader(positive_pairs_reshaped, batch_size=9)\n",
    "train_negative_pair_loader = torch.utils.data.DataLoader(negative_pairs_reshaped, batch_size=9)\n",
    "train_label_loader = torch.utils.data.DataLoader(person, batch_size=9)"
   ]
  },
  {
   "cell_type": "code",
   "execution_count": 359,
   "metadata": {},
   "outputs": [],
   "source": [
    "class ContrastiveLoss(torch.nn.Module):\n",
    "    \"\"\"\n",
    "    Contrastive loss function.\n",
    "    Based on: http://yann.lecun.com/exdb/publis/pdf/hadsell-chopra-lecun-06.pdf\n",
    "    \"\"\"\n",
    "\n",
    "    def __init__(self, margin=2.0):\n",
    "        super(ContrastiveLoss, self).__init__()\n",
    "        self.margin = margin\n",
    "\n",
    "    def forward(self, output1, output2, label):\n",
    "        euclidean_distance = F.pairwise_distance(output1, output2)\n",
    "        loss_contrastive = torch.mean((1-label) * torch.pow(euclidean_distance, 2) +\n",
    "                                      (label) * torch.pow(torch.clamp(self.margin - euclidean_distance, min=0.0), 2))\n",
    "\n",
    "        return loss_contrastive"
   ]
  },
  {
   "cell_type": "code",
   "execution_count": 366,
   "metadata": {
    "scrolled": false
   },
   "outputs": [
    {
     "name": "stdout",
     "output_type": "stream",
     "text": [
      "tensor(-4.9000e-09, device='cuda:0')\n"
     ]
    },
    {
     "data": {
      "image/png": "[encoded data removed]",
      "text/plain": [
       "<Figure size 432x288 with 1 Axes>"
      ]
     },
     "metadata": {},
     "output_type": "display_data"
    }
   ],
   "source": [
    "# using Adam with learning rat .001 keeping everything else default.\n",
    "class LSTM(nn.Module):\n",
    "    \n",
    "    def __init__(self, input_size, hidden_size):\n",
    "        super(LSTM, self).__init__()\n",
    "        self.rnn = nn.LSTM(input_size=input_size, hidden_size=hidden_size)\n",
    "        self.linear1 = nn.Linear(hidden_size, 513)\n",
    "        \n",
    "        self.linear2 = nn.Linear(513, 1)\n",
    "        self.act = torch.softmax\n",
    "        \n",
    "    def forward(self, data):\n",
    "#         pred, hidden = self.rnn(x, None)\n",
    "#         pred = self.act(self.linear(pred)).view(pred.data.shape[0], BATCH, 513)\n",
    "        res = []\n",
    "        for i in range(2): # Siamese nets; sharing weights\n",
    "            x = torch.tensor(data[i]).cuda()\n",
    "            pred, hidden = self.rnn(x[np.newaxis, :, :])\n",
    "            pred = self.act(self.linear1(pred),2)\n",
    "            res.append(pred)\n",
    "         \n",
    "        res = torch.abs(res[1] - res[0])\n",
    "        res = self.linear2(res)\n",
    "        return res\n",
    "\n",
    "neural_network = LSTM(513,256)\n",
    "neural_network = neural_network.cuda()\n",
    "loss_function= nn.CrossEntropyLoss()\n",
    "para = neural_network.parameters()\n",
    "optimizer = torch.optim.Adam(params=para, lr=0.001)\n",
    "loss_list = []\n",
    "epochs = \n",
    "\n",
    "for i in range(epochs):\n",
    "    positive_pairs = iter(train_positive_pair_loader)\n",
    "    negative_pairs = iter(train_negative_pair_loader)\n",
    "    labels = iter(train_label_loader)\n",
    "    while True:\n",
    "        try:\n",
    "            positive_sets = positive_pairs.next()[0]\n",
    "            negative_sets = negative_pairs.next()[0]\n",
    "            target = labels.next()[0]\n",
    "#             print(target)\n",
    "            positive_tensors = [training[int(positive_sets[0].numpy())],training[int(positive_sets[1].numpy())]]\n",
    "            negative_tensors = [training[int(negative_sets[0].numpy())],training[int(negative_sets[1].numpy())]]\n",
    "#             print(positive_tensors[0].shape)\n",
    "            optimizer.zero_grad()\n",
    "            \n",
    "            positive_set_output  = neural_network(positive_tensors).reshape(200,1)\n",
    "            negative_set_output  = neural_network(negative_tensors).reshape(200,1)\n",
    "           \n",
    "#             print(positive_set_output.shape)\n",
    "            loss_positive = F.cross_entropy(positive_set_output , np.repeat(target,200).type(torch.LongTensor).cuda())\n",
    "            loss_negative = F.cross_entropy(negative_set_output , np.repeat(target,200).type(torch.LongTensor).cuda())\n",
    "\n",
    "            loss = loss_positive + loss_negative\n",
    "#             print(loss)\n",
    "            loss.backward()\n",
    "            optimizer.step()\n",
    "        except StopIteration:\n",
    "            break\n",
    "    loss_list.append(loss.data.cpu().numpy())\n",
    "print(loss.data)\n",
    "plt.plot(range(epochs), loss_list)\n",
    "plt.show()   "
   ]
  },
  {
   "cell_type": "code",
   "execution_count": null,
   "metadata": {},
   "outputs": [],
   "source": []
  },
  {
   "cell_type": "code",
   "execution_count": null,
   "metadata": {},
   "outputs": [],
   "source": []
  },
  {
   "cell_type": "code",
   "execution_count": null,
   "metadata": {},
   "outputs": [],
   "source": []
  }
 ],
 "metadata": {
  "kernelspec": {
   "display_name": "Python 3",
   "language": "python",
   "name": "python3"
  },
  "language_info": {
   "codemirror_mode": {
    "name": "ipython",
    "version": 3
   },
   "file_extension": ".py",
   "mimetype": "text/x-python",
   "name": "python",
   "nbconvert_exporter": "python",
   "pygments_lexer": "ipython3",
   "version": "3.6.5"
  }
 },
 "nbformat": 4,
 "nbformat_minor": 2
}
