{
 "cells": [
  {
   "cell_type": "code",
   "execution_count": 1,
   "metadata": {},
   "outputs": [],
   "source": [
    "import torch\n",
    "import os\n",
    "import pickle\n",
    "import numpy as np\n",
    "import itertools\n",
    "import librosa\n",
    "import random\n",
    "from random import shuffle\n",
    "import codecs\n",
    "import errno\n",
    "import matplotlib.pyplot as plt\n",
    "import numpy as np\n",
    "import os\n",
    "from PIL import Image\n",
    "import random\n",
    "import torch\n",
    "from torch import nn\n",
    "from torch import optim\n",
    "import torch.nn.functional as F\n",
    "import torchvision.datasets.mnist\n",
    "from torchvision import transforms\n",
    "from tqdm import tqdm\n",
    "import math"
   ]
  },
  {
   "cell_type": "code",
   "execution_count": 2,
   "metadata": {},
   "outputs": [
    {
     "name": "stdout",
     "output_type": "stream",
     "text": [
      "G:\\Git\\Deep Learning\\Assignment4\n"
     ]
    }
   ],
   "source": [
    "print(os.getcwd())"
   ]
  },
  {
   "cell_type": "code",
   "execution_count": 3,
   "metadata": {},
   "outputs": [],
   "source": [
    "# fecthing the data from the pickle files\n",
    "file = open(\"hw4_trs.pkl\",'rb')\n",
    "train_data = pickle.load(file)\n",
    "file.close()\n",
    "\n",
    "file = open(\"hw4_tes.pkl\",'rb')\n",
    "test_data = pickle.load(file)\n",
    "file.close()"
   ]
  },
  {
   "cell_type": "code",
   "execution_count": 4,
   "metadata": {},
   "outputs": [],
   "source": [
    "train_data.shape\n",
    "training = []"
   ]
  },
  {
   "cell_type": "code",
   "execution_count": 5,
   "metadata": {},
   "outputs": [],
   "source": [
    "BATCH = 100"
   ]
  },
  {
   "cell_type": "code",
   "execution_count": 6,
   "metadata": {},
   "outputs": [],
   "source": [
    "training = torch.zeros(500, 32, 513)\n",
    "for sig in range(500):\n",
    "    stft = librosa.stft(train_data[sig], n_fft=1024, hop_length=512)\n",
    "    training[sig] = torch.tensor(np.abs(stft).T)"
   ]
  },
  {
   "cell_type": "code",
   "execution_count": 7,
   "metadata": {},
   "outputs": [],
   "source": [
    "positive_list = []\n",
    "negative_list = []\n",
    "take_samples = 45\n",
    "training_person_count = 50\n",
    "testing_person_count = 20"
   ]
  },
  {
   "cell_type": "code",
   "execution_count": 8,
   "metadata": {},
   "outputs": [],
   "source": [
    "def get_pairs(number_of_speakers):\n",
    "    positive_pairs = np.zeros((number_of_speakers,take_samples,3))\n",
    "    negative_pairs = np.zeros((number_of_speakers,take_samples,3))\n",
    "    for i in range(number_of_speakers):\n",
    "        complete_set = set(range(number_of_speakers * 10))\n",
    "        positive_set = set(range((i * 10), ((i *10)+ 10)))\n",
    "        negative_set = set(complete_set - positive_set)\n",
    "        positive_list = list(positive_set)\n",
    "        negative_list = list(negative_set)\n",
    "        positive_combinations = np.array(random.sample(list(itertools.combinations(positive_list, 2)), take_samples) )\n",
    "        negative_combinations = np.array(random.sample(list(itertools.product(positive_list, negative_list)), take_samples))\n",
    "        positive_labels = np.ones((take_samples,1))\n",
    "        negative_labels = np.zeros((take_samples,1))\n",
    "        pos = np.hstack((positive_combinations, positive_labels))\n",
    "        neg = np.hstack((negative_combinations, negative_labels))\n",
    "        positive_pairs[i] = pos\n",
    "        negative_pairs[i] = neg\n",
    "    return positive_pairs, negative_pairs"
   ]
  },
  {
   "cell_type": "code",
   "execution_count": 9,
   "metadata": {
    "scrolled": false
   },
   "outputs": [],
   "source": [
    "positive_pairs, negative_pairs = get_pairs(50)"
   ]
  },
  {
   "cell_type": "code",
   "execution_count": 10,
   "metadata": {},
   "outputs": [
    {
     "name": "stdout",
     "output_type": "stream",
     "text": [
      "(50, 45, 3)\n"
     ]
    }
   ],
   "source": [
    "print(positive_pairs.shape)"
   ]
  },
  {
   "cell_type": "code",
   "execution_count": 11,
   "metadata": {},
   "outputs": [
    {
     "name": "stdout",
     "output_type": "stream",
     "text": [
      "torch.Size([32, 513])\n"
     ]
    }
   ],
   "source": [
    "print(training[0].shape)"
   ]
  },
  {
   "cell_type": "code",
   "execution_count": 12,
   "metadata": {},
   "outputs": [],
   "source": [
    "positive_pairs_reshaped = positive_pairs.reshape((training_person_count * take_samples), 3)\n",
    "negative_pairs_reshaped = negative_pairs.reshape((training_person_count * take_samples), 3)"
   ]
  },
  {
   "cell_type": "code",
   "execution_count": 13,
   "metadata": {},
   "outputs": [
    {
     "name": "stdout",
     "output_type": "stream",
     "text": [
      "(4500, 3)\n"
     ]
    }
   ],
   "source": [
    "data = np.concatenate((positive_pairs_reshaped, negative_pairs_reshaped))\n",
    "data = np.array(data, dtype=np.int)\n",
    "print(data.shape)\n"
   ]
  },
  {
   "cell_type": "code",
   "execution_count": 14,
   "metadata": {},
   "outputs": [
    {
     "name": "stdout",
     "output_type": "stream",
     "text": [
      "45\n"
     ]
    }
   ],
   "source": [
    "train_loader = torch.utils.data.DataLoader(data, shuffle=True, batch_size=BATCH)\n",
    "print(len(train_loader))"
   ]
  },
  {
   "cell_type": "code",
   "execution_count": 15,
   "metadata": {},
   "outputs": [],
   "source": [
    "# Ref : https://github.com/adambielski/siamese-triplet/blob/master/losses.py\n",
    "# ref: https://hackernoon.com/one-shot-learning-with-siamese-networks-in-pytorch-8ddaab10340e\n",
    "class ContrastiveLoss(nn.Module):\n",
    "    \"\"\"\n",
    "    Contrastive loss\n",
    "    Takes embeddings of two samples and a target label == 1 if samples are from the same class and label == 0 otherwise\n",
    "    \"\"\"\n",
    "\n",
    "    def __init__(self, margin):\n",
    "        super(ContrastiveLoss, self).__init__()\n",
    "        self.margin = margin\n",
    "        self.eps = 1e-9\n",
    "\n",
    "    def forward(self, output1, output2, target, size_average=True):\n",
    "        distances = (output2 - output1).pow(2).sum(1)  # squared distances\n",
    "        losses = 0.5 * (target.float() * distances +\n",
    "                        (1 + -1 * target).float() * F.relu(self.margin - (distances + self.eps).sqrt()).pow(2))\n",
    "        return losses.mean() if size_average else losses.sum()"
   ]
  },
  {
   "cell_type": "code",
   "execution_count": null,
   "metadata": {
    "scrolled": false
   },
   "outputs": [
    {
     "name": "stdout",
     "output_type": "stream",
     "text": [
      "tensor(0.6181, device='cuda:0', grad_fn=<MeanBackward1>)\n",
      "tensor(0.5548, device='cuda:0', grad_fn=<MeanBackward1>)\n",
      "tensor(0.4973, device='cuda:0', grad_fn=<MeanBackward1>)\n",
      "tensor(0.4089, device='cuda:0', grad_fn=<MeanBackward1>)\n",
      "tensor(0.2490, device='cuda:0', grad_fn=<MeanBackward1>)\n",
      "tensor(0.2377, device='cuda:0', grad_fn=<MeanBackward1>)\n",
      "tensor(0.1952, device='cuda:0', grad_fn=<MeanBackward1>)\n",
      "tensor(0.1523, device='cuda:0', grad_fn=<MeanBackward1>)\n",
      "tensor(0.1408, device='cuda:0', grad_fn=<MeanBackward1>)\n",
      "tensor(0.1419, device='cuda:0', grad_fn=<MeanBackward1>)\n",
      "tensor(0.1201, device='cuda:0', grad_fn=<MeanBackward1>)\n",
      "tensor(0.0896, device='cuda:0', grad_fn=<MeanBackward1>)\n",
      "tensor(0.0667, device='cuda:0', grad_fn=<MeanBackward1>)\n",
      "tensor(0.0718, device='cuda:0', grad_fn=<MeanBackward1>)\n",
      "tensor(0.0698, device='cuda:0', grad_fn=<MeanBackward1>)\n",
      "tensor(0.0635, device='cuda:0', grad_fn=<MeanBackward1>)\n",
      "tensor(0.0478, device='cuda:0', grad_fn=<MeanBackward1>)\n",
      "tensor(0.0461, device='cuda:0', grad_fn=<MeanBackward1>)\n",
      "tensor(0.0572, device='cuda:0', grad_fn=<MeanBackward1>)\n",
      "tensor(0.0434, device='cuda:0', grad_fn=<MeanBackward1>)\n",
      "tensor(0.0368, device='cuda:0', grad_fn=<MeanBackward1>)\n",
      "tensor(0.0370, device='cuda:0', grad_fn=<MeanBackward1>)\n",
      "tensor(0.0389, device='cuda:0', grad_fn=<MeanBackward1>)\n",
      "tensor(0.0425, device='cuda:0', grad_fn=<MeanBackward1>)\n"
     ]
    }
   ],
   "source": [
    "# https://hackernoon.com/one-shot-learning-with-siamese-networks-in-pytorch-8ddaab10340e\n",
    "# ref: https://becominghuman.ai/siamese-networks-algorithm-applications-and-pytorch-implementation-4ffa3304c18\n",
    "class LSTM(nn.Module):\n",
    "    \n",
    "    def __init__(self, input_size, hidden_size):\n",
    "        super(LSTM, self).__init__()\n",
    "        self.rnn = nn.GRU(input_size, hidden_size, 2)\n",
    "        self.linear1 = nn.Linear(1600, 800)\n",
    "        self.linear2 = nn.Linear(800, 400)\n",
    "        self.linear3 = nn.Linear(400, 50)\n",
    "        self.linear4 = nn.Linear(50, 20)\n",
    "        \n",
    "        self.act = F.relu\n",
    "        \n",
    "    def siamese_forward(self, x):\n",
    "        pred, hidden = self.rnn(x, None)\n",
    "        pred = pred.view(pred.shape[0], -1)\n",
    "        pred = self.act(self.linear1(pred))\n",
    "        pred = self.act(self.linear2(pred))\n",
    "        pred = self.act(self.linear3(pred))\n",
    "        pred = self.act(self.linear4(pred))\n",
    "        return pred\n",
    "    \n",
    "    def forward(self, x , y):\n",
    "        first = self.siamese_forward(x)\n",
    "        second = self.siamese_forward(y)\n",
    "        return first,second\n",
    "\n",
    "neural_network = LSTM(513,50)\n",
    "neural_network = neural_network.cuda()\n",
    "loss_function= ContrastiveLoss(2)\n",
    "para = neural_network.parameters()\n",
    "optimizer = torch.optim.Adam(params=para, lr=0.0003)\n",
    "loss_list = []\n",
    "epochs = 150\n",
    "for i in range(epochs):\n",
    "    train_loader_iter = iter(train_loader)\n",
    "    while True:\n",
    "        try:\n",
    "            pairs_label = train_loader_iter.next()\n",
    "            optimizer.zero_grad()\n",
    "            first_set = training[pairs_label[:,0].numpy()].cuda()\n",
    "            second_set = training[pairs_label[:,1].numpy()].cuda()\n",
    "            labels = pairs_label[:,2].cuda().float() \n",
    "            \n",
    "            first,second = neural_network(first_set, second_set)\n",
    "            loss = loss_function(first,second, labels)\n",
    "            loss.backward()\n",
    "            optimizer.step()\n",
    "            \n",
    "        except StopIteration:\n",
    "            break\n",
    "    print(loss)\n",
    "    loss_list.append(loss.data.cpu().numpy())\n",
    "print(loss.data)\n",
    "plt.plot(range(epochs), loss_list)\n",
    "plt.show() "
   ]
  },
  {
   "cell_type": "code",
   "execution_count": null,
   "metadata": {},
   "outputs": [],
   "source": [
    "positive_pairs, negative_pairs = get_pairs(20)"
   ]
  },
  {
   "cell_type": "code",
   "execution_count": null,
   "metadata": {},
   "outputs": [],
   "source": [
    "positive_pairs.shape"
   ]
  },
  {
   "cell_type": "code",
   "execution_count": null,
   "metadata": {},
   "outputs": [],
   "source": [
    "positive_pairs_reshaped = positive_pairs.reshape((testing_person_count * take_samples), 3)\n",
    "negative_pairs_reshaped = negative_pairs.reshape((testing_person_count * take_samples), 3)\n",
    "\n",
    "data_test = np.concatenate((positive_pairs_reshaped, negative_pairs_reshaped))\n",
    "data_test = np.array(data_test, dtype=np.int)\n",
    "print(data_test.shape)"
   ]
  },
  {
   "cell_type": "code",
   "execution_count": null,
   "metadata": {},
   "outputs": [],
   "source": [
    "test_pair_loader = torch.utils.data.DataLoader(data_test, shuffle=True, batch_size=1)\n"
   ]
  },
  {
   "cell_type": "code",
   "execution_count": null,
   "metadata": {},
   "outputs": [],
   "source": [
    "testing = torch.zeros(500, 45, 513)\n",
    "for sig in range(200):\n",
    "    stft = librosa.stft(test_data[sig], n_fft=1024, hop_length=512)\n",
    "    testing[sig] = torch.tensor(np.abs(stft).T)"
   ]
  },
  {
   "cell_type": "code",
   "execution_count": null,
   "metadata": {},
   "outputs": [],
   "source": [
    "testing = testing[:,0:32,:]\n",
    "testing.shape"
   ]
  },
  {
   "cell_type": "code",
   "execution_count": null,
   "metadata": {
    "scrolled": true
   },
   "outputs": [],
   "source": [
    "correct = 0\n",
    "with torch.no_grad():\n",
    "    pairs_iter = iter(test_pair_loader)\n",
    "    while True:\n",
    "        try:\n",
    "            pairs_label = pairs_iter.next()\n",
    "            optimizer.zero_grad()\n",
    "            first_set = testing[pairs_label[:,0].numpy()].cuda()\n",
    "            second_set = testing[pairs_label[:,1].numpy()].cuda()\n",
    "            labels = pairs_label[:,2].cuda().float()\n",
    "            first_output, second_output = neural_network(first_set, second_set)\n",
    "            \n",
    "            distance = F.pairwise_distance(first_output, second_output).cpu().numpy()[0]\n",
    "\n",
    "            if distance < 3.1:\n",
    "                predicted = 1\n",
    "            else:\n",
    "                predicted = 0\n",
    "            if predicted == labels[0].cpu().numpy():\n",
    "                correct = correct + 1\n",
    "            \n",
    "        except StopIteration:\n",
    "            print(correct/18)\n",
    "            break "
   ]
  },
  {
   "cell_type": "code",
   "execution_count": null,
   "metadata": {},
   "outputs": [],
   "source": []
  },
  {
   "cell_type": "code",
   "execution_count": null,
   "metadata": {},
   "outputs": [],
   "source": []
  }
 ],
 "metadata": {
  "kernelspec": {
   "display_name": "Python 3",
   "language": "python",
   "name": "python3"
  },
  "language_info": {
   "codemirror_mode": {
    "name": "ipython",
    "version": 3
   },
   "file_extension": ".py",
   "mimetype": "text/x-python",
   "name": "python",
   "nbconvert_exporter": "python",
   "pygments_lexer": "ipython3",
   "version": "3.6.5"
  }
 },
 "nbformat": 4,
 "nbformat_minor": 2
}
