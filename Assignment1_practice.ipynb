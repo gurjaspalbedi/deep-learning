{
  "nbformat": 4,
  "nbformat_minor": 0,
  "metadata": {
    "colab": {
      "name": "Assignment1_practice.ipynb",
      "version": "0.3.2",
      "provenance": [],
      "collapsed_sections": [],
      "include_colab_link": true
    },
    "kernelspec": {
      "name": "python3",
      "display_name": "Python 3"
    },
    "accelerator": "GPU"
  },
  "cells": [
    {
      "cell_type": "markdown",
      "metadata": {
        "id": "view-in-github",
        "colab_type": "text"
      },
      "source": [
        "<a href=\"https://colab.research.google.com/github/gurjaspalbedi/deep-learning/blob/master/Assignment1_practice.ipynb\" target=\"_parent\"><img src=\"https://colab.research.google.com/assets/colab-badge.svg\" alt=\"Open In Colab\"/></a>"
      ]
    },
    {
      "metadata": {
        "id": "wucCqqT_eZST",
        "colab_type": "code",
        "outputId": "af149e6a-64a1-47a4-9e8d-da739ba142e7",
        "colab": {
          "base_uri": "https://localhost:8080/",
          "height": 69
        }
      },
      "cell_type": "code",
      "source": [
        "\n",
        "import torch\n",
        "print('Torch', torch.__version__, 'CUDA', torch.version.cuda)\n",
        "print('Device:', torch.device('cuda:0'))\n",
        "print(torch.cuda.is_available())\n",
        "\n",
        "from torch.autograd import Variable\n",
        "import numpy as np\n",
        "import time\n",
        "import matplotlib.pyplot as plt\n",
        "plt.style.use('default')"
      ],
      "execution_count": 132,
      "outputs": [
        {
          "output_type": "stream",
          "text": [
            "Torch 1.0.0 CUDA 9.0.176\n",
            "Device: cuda:0\n",
            "True\n"
          ],
          "name": "stdout"
        }
      ]
    },
    {
      "metadata": {
        "id": "1fhxB4Wver7Y",
        "colab_type": "code",
        "outputId": "b9ae9999-b9e1-41dc-eb96-b046a93cb054",
        "colab": {
          "base_uri": "https://localhost:8080/",
          "height": 34
        }
      },
      "cell_type": "code",
      "source": [
        "import torchvision\n",
        "import torchvision.transforms as transforms\n",
        "import torchvision.datasets as datasets\n",
        "import numpy as np\n",
        "import matplotlib.pyplot as plt\n",
        "\n",
        "BATCH= 4\n",
        "transform = transforms.ToTensor()\n",
        "\n",
        "train_set = torchvision.datasets.MNIST(\n",
        "    'mnist_data',\n",
        "    transform=transform,\n",
        "    train= True, \n",
        "    download=True)\n",
        "\n",
        "train_loader = torch.utils.data.DataLoader(train_set,batch_size=BATCH)\n",
        "\n",
        "test_set = torchvision.datasets.MNIST(\n",
        "    'mnist_data',\n",
        "    transform=transform,\n",
        "    train= False, \n",
        "    download=True)\n",
        "\n",
        "test_loader = torch.utils.data.DataLoader(test_set,batch_size=BATCH)\n",
        "len(test_loader)"
      ],
      "execution_count": 133,
      "outputs": [
        {
          "output_type": "execute_result",
          "data": {
            "text/plain": [
              "2500"
            ]
          },
          "metadata": {
            "tags": []
          },
          "execution_count": 133
        }
      ]
    },
    {
      "metadata": {
        "id": "raI_ay0AoEHl",
        "colab_type": "code",
        "outputId": "05b94b5c-92e5-40db-a412-966844a0cd8d",
        "colab": {
          "base_uri": "https://localhost:8080/",
          "height": 34
        }
      },
      "cell_type": "code",
      "source": [
        "first_iter = next(iter(train_set))\n",
        "image , label = first_iter\n",
        "print(image.shape)"
      ],
      "execution_count": 134,
      "outputs": [
        {
          "output_type": "stream",
          "text": [
            "torch.Size([1, 28, 28])\n"
          ],
          "name": "stdout"
        }
      ]
    },
    {
      "metadata": {
        "id": "a6GVC1rDoRtc",
        "colab_type": "code",
        "outputId": "a6ca792e-2dd9-471b-ca38-313683380f8b",
        "colab": {
          "base_uri": "https://localhost:8080/",
          "height": 450
        }
      },
      "cell_type": "code",
      "source": [
        "plt.imshow(image.squeeze(), cmap=\"gray\")"
      ],
      "execution_count": 135,
      "outputs": [
        {
          "output_type": "execute_result",
          "data": {
            "text/plain": [
              "<matplotlib.image.AxesImage at 0x7f481124c9b0>"
            ]
          },
          "metadata": {
            "tags": []
          },
          "execution_count": 135
        },
        {
          "output_type": "display_data",
          "data": {
            "image/png": "[encoded data removed]",
            "text/plain": [
              "<Figure size 640x480 with 1 Axes>"
            ]
          },
          "metadata": {
            "tags": []
          }
        }
      ]
    },
    {
      "metadata": {
        "id": "X1DUIv_ej7uo",
        "colab_type": "code",
        "colab": {}
      },
      "cell_type": "code",
      "source": [
        "import torch.nn as nn\n"
      ],
      "execution_count": 0,
      "outputs": []
    },
    {
      "metadata": {
        "id": "_hSljXZiuQA8",
        "colab_type": "code",
        "colab": {}
      },
      "cell_type": "code",
      "source": [
        "class NeuralNet(nn.Module):\n",
        "  def __init__(self):\n",
        "    super(NeuralNet, self).__init__()\n",
        "    self.input_layer = nn.Linear(28*28, 1024)\n",
        "    self.hidden_layer1 = nn.Linear(1024, 1024)\n",
        "    self.hidden_layer2 = nn.Linear(1024, 1024)\n",
        "    self.hidden_layer3 = nn.Linear(1024, 1024)\n",
        "    self.hidden_layer4 = nn.Linear(1024, 1024)\n",
        "    self.hidden_layer5 = nn.Linear(1024, 1024)\n",
        "    self.output_layer = nn.Linear(1024, 10)\n",
        "    \n",
        "    self.activation = nn.Softmax()\n",
        "\n",
        "  def forward(self, data):\n",
        "\n",
        "    data = data.view(BATCH, -1).cuda()\n",
        "    output = self.activation(self.input_layer(data))\n",
        "    output = self.activation(self.hidden_layer1(output))\n",
        "    output = self.activation(self.hidden_layer1(output))\n",
        "    output = self.activation(self.hidden_layer1(output))\n",
        "    output = self.activation(self.hidden_layer1(output))\n",
        "    final_output = self.hidden_layer5(output)\n",
        "    return final_output\n",
        "\n",
        "\n",
        "  \n",
        "  \n"
      ],
      "execution_count": 0,
      "outputs": []
    },
    {
      "metadata": {
        "id": "9BC_kbpJD9u_",
        "colab_type": "code",
        "colab": {}
      },
      "cell_type": "code",
      "source": [
        ""
      ],
      "execution_count": 0,
      "outputs": []
    },
    {
      "metadata": {
        "id": "FBMN3xfp03V7",
        "colab_type": "code",
        "colab": {
          "base_uri": "https://localhost:8080/",
          "height": 124
        },
        "outputId": "60e66ed0-98c0-48e3-cebe-d02fda329728"
      },
      "cell_type": "code",
      "source": [
        "neural_network = NeuralNet().cuda()\n",
        "loss_function = nn.CrossEntropyLoss()\n",
        "para = neural_network.parameters()\n",
        "optimizer = torch.optim.Adam(params=para, lr=0.01)\n",
        "\n",
        "for i, data in enumerate(train_loader):\n",
        "  images, labels = data\n",
        "  optimizer.zero_grad()\n",
        "  outputs = neural_network(images.cuda())\n",
        "#   outputs = output.long()\n",
        "  loss_f = loss_function(outputs.cuda(), labels.cuda())\n",
        "  loss_f.backward()\n",
        "  optimizer.step()\n",
        "\n",
        "# correct  = 0\n",
        "# total = 0\n",
        "# with torch.no_grad():\n",
        "#   for data in test_loader:\n",
        "#     images, labels = data\n",
        "#     outputs = net(images)\n",
        "#     _, predicted = torch.max(outputs.data, 1)\n",
        "#     total += labels.size(0)\n",
        "#     correct += (predicted == labels).sum().item()\n",
        "\n",
        "# print('Accuracy of the network on the 10000 test images: %d %%' % (\n",
        "#     100 * correct / total))"
      ],
      "execution_count": 138,
      "outputs": [
        {
          "output_type": "stream",
          "text": [
            "/usr/local/lib/python3.6/dist-packages/ipykernel_launcher.py:17: UserWarning: Implicit dimension choice for softmax has been deprecated. Change the call to include dim=X as an argument.\n",
            "/usr/local/lib/python3.6/dist-packages/ipykernel_launcher.py:18: UserWarning: Implicit dimension choice for softmax has been deprecated. Change the call to include dim=X as an argument.\n",
            "/usr/local/lib/python3.6/dist-packages/ipykernel_launcher.py:19: UserWarning: Implicit dimension choice for softmax has been deprecated. Change the call to include dim=X as an argument.\n",
            "/usr/local/lib/python3.6/dist-packages/ipykernel_launcher.py:20: UserWarning: Implicit dimension choice for softmax has been deprecated. Change the call to include dim=X as an argument.\n",
            "/usr/local/lib/python3.6/dist-packages/ipykernel_launcher.py:21: UserWarning: Implicit dimension choice for softmax has been deprecated. Change the call to include dim=X as an argument.\n"
          ],
          "name": "stderr"
        }
      ]
    },
    {
      "metadata": {
        "id": "QtKExM-gqnZ2",
        "colab_type": "code",
        "outputId": "633614b8-8698-44dc-8606-6528f3733a42",
        "colab": {
          "base_uri": "https://localhost:8080/",
          "height": 141
        }
      },
      "cell_type": "code",
      "source": [
        "correct  = 0\n",
        "total = 0\n",
        "with torch.no_grad():\n",
        "  for data in test_loader:\n",
        "    images, labels = data\n",
        "    images.cuda()\n",
        "    labels.cuda()\n",
        "    outputs = neural_network(images)\n",
        "    _, predicted = torch.max(outputs.data.cuda(), 1)\n",
        "    _.cuda()\n",
        "    predicted.cuda()\n",
        "    total += labels.size(0)\n",
        "    correct += (predicted.cuda() == labels.cuda()).sum().item()\n",
        "\n",
        "print('Accuracy of the network on the 10000 test images: %d %%' % (100 * correct / total))"
      ],
      "execution_count": 139,
      "outputs": [
        {
          "output_type": "stream",
          "text": [
            "/usr/local/lib/python3.6/dist-packages/ipykernel_launcher.py:17: UserWarning: Implicit dimension choice for softmax has been deprecated. Change the call to include dim=X as an argument.\n",
            "/usr/local/lib/python3.6/dist-packages/ipykernel_launcher.py:18: UserWarning: Implicit dimension choice for softmax has been deprecated. Change the call to include dim=X as an argument.\n",
            "/usr/local/lib/python3.6/dist-packages/ipykernel_launcher.py:19: UserWarning: Implicit dimension choice for softmax has been deprecated. Change the call to include dim=X as an argument.\n",
            "/usr/local/lib/python3.6/dist-packages/ipykernel_launcher.py:20: UserWarning: Implicit dimension choice for softmax has been deprecated. Change the call to include dim=X as an argument.\n",
            "/usr/local/lib/python3.6/dist-packages/ipykernel_launcher.py:21: UserWarning: Implicit dimension choice for softmax has been deprecated. Change the call to include dim=X as an argument.\n"
          ],
          "name": "stderr"
        },
        {
          "output_type": "stream",
          "text": [
            "Accuracy of the network on the 10000 test images: 49 %\n"
          ],
          "name": "stdout"
        }
      ]
    }
  ]
}