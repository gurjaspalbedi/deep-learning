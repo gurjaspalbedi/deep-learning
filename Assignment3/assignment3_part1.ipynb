{
 "cells": [
  {
   "cell_type": "code",
   "execution_count": 1,
   "metadata": {},
   "outputs": [
    {
     "name": "stdout",
     "output_type": "stream",
     "text": [
      "Torch 1.0.0 CUDA 9.0\n",
      "Device: cuda:0\n",
      "True\n"
     ]
    }
   ],
   "source": [
    "# Importing the libraries \n",
    "import torch\n",
    "import torchvision\n",
    "import torchvision.transforms as transforms\n",
    "import torchvision.datasets as datasets\n",
    "import numpy as np\n",
    "import matplotlib.pyplot as plt\n",
    "import torch.nn as nn\n",
    "from sklearn.decomposition import PCA\n",
    "from sklearn.manifold import TSNE\n",
    "import matplotlib.cm as cm\n",
    "import pandas as pd\n",
    "\n",
    "# Checking the availability of CUDA on machine\n",
    "print(\"Torch\", torch.__version__, \"CUDA\", torch.version.cuda)\n",
    "print(\"Device:\", torch.device(\"cuda:0\"))\n",
    "print(torch.cuda.is_available())"
   ]
  },
  {
   "cell_type": "code",
   "execution_count": 2,
   "metadata": {},
   "outputs": [],
   "source": [
    "# Loading the data taking 200 at a time\n",
    "BATCH = 200\n",
    "transform = transforms.Compose(\n",
    "    [transforms.ToTensor(), transforms.Normalize((0.1307,), (0.3081,))]\n",
    ")\n",
    "\n",
    "train_set = torchvision.datasets.MNIST(\n",
    "    \"mnist_data\", transform=transform, train=True, download=True\n",
    ")\n",
    "\n",
    "train_loader = torch.utils.data.DataLoader(train_set, batch_size=BATCH)\n",
    "\n",
    "test_set = torchvision.datasets.MNIST(\n",
    "    \"mnist_data\", transform=transform, train=False, download=True,\n",
    ")\n",
    "\n",
    "test_loader = torch.utils.data.DataLoader(test_set, batch_size=BATCH)"
   ]
  },
  {
   "cell_type": "code",
   "execution_count": 3,
   "metadata": {},
   "outputs": [],
   "source": [
    "# I learning Pytorch using the following playlist on youtube\n",
    "# A part of this code in this cell is take from those learning\n",
    "# https://www.youtube.com/watch?v=v5cngxo4mIg&list=PLZbbT5o_s2xrfNyHZsM6ufI0iZENK9xgG\n",
    "class NeuralNet(nn.Module):\n",
    "    def __init__(self):\n",
    "        super(NeuralNet, self).__init__()\n",
    "        self.input_layer = nn.Linear(28 * 28, 1024)\n",
    "        self.hidden_layer1 = nn.Linear(1024, 1024)\n",
    "        self.hidden_layer2 = nn.Linear(1024, 1024)\n",
    "        self.hidden_layer3 = nn.Linear(1024, 1024)\n",
    "        self.hidden_layer4 = nn.Linear(1024, 1024)\n",
    "#         self.hidden_layer5 = nn.Linear(1024, 1024)\n",
    "        self.output_layer = nn.Linear(1024, 10)\n",
    "        self.activation = nn.ReLU()\n",
    "\n",
    "    def forward(self, data):\n",
    "        data = data.view(-1, 28 * 28).cuda()\n",
    "        self.data = data\n",
    "        self.output_input_layer = self.activation(self.input_layer(data))\n",
    "        self.output_1st_hidden = self.activation(\n",
    "            self.hidden_layer1(self.output_input_layer)\n",
    "        )\n",
    "        self.output_2nd_hidden = self.activation(\n",
    "            self.hidden_layer2(self.output_1st_hidden)\n",
    "        )\n",
    "        self.output_3rd_hidden = self.activation(\n",
    "            self.hidden_layer3(self.output_2nd_hidden)\n",
    "        )\n",
    "        self.output_4th_hidden = self.activation(\n",
    "            self.hidden_layer4(self.output_3rd_hidden)\n",
    "        )\n",
    "#         self.output_5th_hidden = self.activation(\n",
    "#             self.hidden_layer5(self.output_4th_hidden)\n",
    "#         )\n",
    "        self.final_output = self.output_layer(self.output_4th_hidden)\n",
    "        self.softmax_output = torch.nn.functional.log_softmax(self.final_output, dim=1)\n",
    "        return self.softmax_output\n",
    "\n"
   ]
  },
  {
   "cell_type": "code",
   "execution_count": 4,
   "metadata": {},
   "outputs": [],
   "source": [
    "#Training the network\n",
    "neural_network = NeuralNet().cuda()\n",
    "loss_function = nn.CrossEntropyLoss()\n",
    "para = neural_network.parameters()\n",
    "optimizer = torch.optim.Adam(para, lr=0.001)\n",
    "loss_list = []\n",
    "epochs = 35\n",
    "for t in range(epochs):\n",
    "    for i, data in enumerate(train_loader):\n",
    "        images, labels = data\n",
    "        optimizer.zero_grad()\n",
    "        outputs = neural_network(images.cuda())\n",
    "        loss = loss_function(outputs.cuda(), labels.cuda())\n",
    "        loss.backward()\n",
    "        optimizer.step()\n",
    "# For debugging purpose\n",
    "#     loss_list.append(loss.data.cpu().numpy())\n",
    "# For debugging purpose\n",
    "# print(loss.data)\n",
    "# plt.plot(range(epochs), loss_list)\n",
    "# plt.show()  \n",
    "\n"
   ]
  },
  {
   "cell_type": "code",
   "execution_count": 5,
   "metadata": {},
   "outputs": [],
   "source": [
    "# Testing the trained model\n",
    "def test():\n",
    "    correct = 0\n",
    "    total = 0\n",
    "    save_one = 0\n",
    "\n",
    "    with torch.no_grad():\n",
    "        for data in test_loader:\n",
    "            images, labels = data\n",
    "            images = images.cuda()\n",
    "            labels = labels.cuda()\n",
    "            outputs = neural_network(images)\n",
    "            _, predicted = torch.max(outputs.data.cuda(), 1)\n",
    "            _ = _.cuda()\n",
    "            predicted = predicted.cuda()\n",
    "            total += labels.size(0)\n",
    "            correct += (predicted == labels).sum().item()\n",
    "    print(correct)\n",
    "    acc = (100.0 * correct / total)\n",
    "    print(\"Accuracy:\" , acc)\n",
    "    return acc"
   ]
  },
  {
   "cell_type": "code",
   "execution_count": 6,
   "metadata": {},
   "outputs": [
    {
     "name": "stdout",
     "output_type": "stream",
     "text": [
      "Accuracy with original model\n",
      "9833\n",
      "Accuracy: 98.33\n"
     ]
    },
    {
     "data": {
      "text/plain": [
       "98.33"
      ]
     },
     "execution_count": 6,
     "metadata": {},
     "output_type": "execute_result"
    }
   ],
   "source": [
    "print(\"Accuracy with original model\")\n",
    "test()"
   ]
  },
  {
   "cell_type": "code",
   "execution_count": 7,
   "metadata": {},
   "outputs": [],
   "source": [
    "w1 = neural_network.input_layer.weight.data\n",
    "w2 = neural_network.hidden_layer1.weight.data\n",
    "w3 = neural_network.hidden_layer2.weight.data\n",
    "w4 = neural_network.hidden_layer3.weight.data\n",
    "w5 = neural_network.hidden_layer4.weight.data\n",
    "# w6 = neural_network.output_layer.weight.data"
   ]
  },
  {
   "cell_type": "code",
   "execution_count": 8,
   "metadata": {},
   "outputs": [],
   "source": [
    "u1,s1,v1 = torch.svd(w1)\n",
    "u2,s2,v2 = torch.svd(w2)\n",
    "u3,s3,v3 = torch.svd(w3)\n",
    "u4,s4,v4 = torch.svd(w4)\n",
    "u5,s5,v5 = torch.svd(w5)\n",
    "state_dict = neural_network.state_dict()\n"
   ]
  },
  {
   "cell_type": "code",
   "execution_count": 9,
   "metadata": {},
   "outputs": [
    {
     "name": "stdout",
     "output_type": "stream",
     "text": [
      "\n",
      "Accuracy when d is  10\n",
      "6179\n",
      "Accuracy: 61.79\n",
      "\n",
      "Accuracy when d is  20\n",
      "9493\n",
      "Accuracy: 94.93\n",
      "\n",
      "Accuracy when d is  50\n",
      "9829\n",
      "Accuracy: 98.29\n",
      "\n",
      "Accuracy when d is  100\n",
      "9835\n",
      "Accuracy: 98.35\n",
      "\n",
      "Accuracy when d is  200\n",
      "9839\n",
      "Accuracy: 98.39\n",
      "\n",
      "Accuracy when d is  full\n",
      "9833\n",
      "Accuracy: 98.33\n"
     ]
    }
   ],
   "source": [
    "d= [10,20,50,100,200, 'full']\n",
    "acc_list = []\n",
    "for item in d:\n",
    "    print()\n",
    "    if item != 'full':\n",
    "        w1_new = torch.mm(u1[:,0:item],torch.mm(s1.diag()[0:item,0:item],v1[:,0:item].t()))\n",
    "        w2_new = torch.mm(u2[:,0:item],torch.mm(s2.diag()[0:item,0:item],v2[:,0:item].t()))\n",
    "        w3_new = torch.mm(u3[:,0:item],torch.mm(s3.diag()[0:item,0:item],v3[:,0:item].t()))\n",
    "        w4_new = torch.mm(u4[:,0:item],torch.mm(s4.diag()[0:item,0:item],v4[:,0:item].t()))\n",
    "        w5_new = torch.mm(u5[:,0:item],torch.mm(s5.diag()[0:item,0:item],v5[:,0:item].t()))\n",
    "    else:\n",
    "        w1_new = torch.mm(u1,torch.mm(s1.diag(),v1.t()))\n",
    "        w2_new = torch.mm(u2,torch.mm(s2.diag(),v2.t()))\n",
    "        w3_new = torch.mm(u3,torch.mm(s3.diag(),v3.t()))\n",
    "        w4_new = torch.mm(u4,torch.mm(s4.diag(),v4.t()))\n",
    "        w5_new = torch.mm(u5,torch.mm(s5.diag(),v5.t()))\n",
    "        \n",
    "    state_dict['input_layer.weight'] = w1_new\n",
    "    state_dict['hidden_layer1.weight'] = w2_new\n",
    "    state_dict['hidden_layer2.weight'] = w3_new\n",
    "    state_dict['hidden_layer3.weight'] = w4_new\n",
    "    state_dict['hidden_layer4.weight'] = w5_new\n",
    "    \n",
    "    neural_network.load_state_dict(state_dict)\n",
    "    print(\"Accuracy when d is \", item)\n",
    "    acc = test()\n",
    "    acc_list.append(acc)"
   ]
  },
  {
   "cell_type": "code",
   "execution_count": 11,
   "metadata": {},
   "outputs": [
    {
     "data": {
      "text/plain": [
       "[<matplotlib.lines.Line2D at 0x20c028f5630>]"
      ]
     },
     "execution_count": 11,
     "metadata": {},
     "output_type": "execute_result"
    },
    {
     "data": {
      "image/png": "[encoded data removed]",
      "text/plain": [
       "<Figure size 432x288 with 1 Axes>"
      ]
     },
     "metadata": {},
     "output_type": "display_data"
    }
   ],
   "source": [
    "plt.plot(d,acc_list)"
   ]
  },
  {
   "cell_type": "code",
   "execution_count": 13,
   "metadata": {},
   "outputs": [],
   "source": [
    "# setting d = 20\n",
    "item = 20\n",
    "w1_new = torch.mm(u1[:,0:item],torch.mm(s1.diag()[0:item,0:item],v1[:,0:item].t()))\n",
    "w2_new = torch.mm(u2[:,0:item],torch.mm(s2.diag()[0:item,0:item],v2[:,0:item].t()))\n",
    "w3_new = torch.mm(u3[:,0:item],torch.mm(s3.diag()[0:item,0:item],v3[:,0:item].t()))\n",
    "w4_new = torch.mm(u4[:,0:item],torch.mm(s4.diag()[0:item,0:item],v4[:,0:item].t()))\n",
    "w5_new = torch.mm(u5[:,0:item],torch.mm(s5.diag()[0:item,0:item],v5[:,0:item].t()))\n",
    "\n",
    "state_dict = neural_network.state_dict()\n",
    "state_dict['input_layer.weight'] = w1_new\n",
    "state_dict['hidden_layer1.weight'] = w2_new\n",
    "state_dict['hidden_layer2.weight'] = w3_new\n",
    "state_dict['hidden_layer3.weight'] = w4_new\n",
    "state_dict['hidden_layer4.weight'] = w5_new\n",
    "\n",
    "neural_network.load_state_dict(state_dict)"
   ]
  },
  {
   "cell_type": "code",
   "execution_count": 14,
   "metadata": {},
   "outputs": [],
   "source": [
    "loss_function = nn.CrossEntropyLoss()\n",
    "para = neural_network.parameters()\n",
    "optimizer = torch.optim.Adam(para, lr=0.001)\n",
    "loss_list = []\n",
    "epochs = 35\n",
    "for t in range(epochs):\n",
    "    for i, data in enumerate(train_loader):\n",
    "        images, labels = data\n",
    "        optimizer.zero_grad()\n",
    "        outputs = neural_network(images.cuda())\n",
    "        loss = loss_function(outputs.cuda(), labels.cuda())\n",
    "        loss.backward()\n",
    "        optimizer.step()"
   ]
  },
  {
   "cell_type": "code",
   "execution_count": 15,
   "metadata": {},
   "outputs": [
    {
     "name": "stdout",
     "output_type": "stream",
     "text": [
      "9856\n",
      "Accuracy: 98.56\n"
     ]
    },
    {
     "data": {
      "text/plain": [
       "98.56"
      ]
     },
     "execution_count": 15,
     "metadata": {},
     "output_type": "execute_result"
    }
   ],
   "source": [
    "test()"
   ]
  },
  {
   "cell_type": "code",
   "execution_count": null,
   "metadata": {},
   "outputs": [],
   "source": []
  }
 ],
 "metadata": {
  "kernelspec": {
   "display_name": "Python 3",
   "language": "python",
   "name": "python3"
  },
  "language_info": {
   "codemirror_mode": {
    "name": "ipython",
    "version": 3
   },
   "file_extension": ".py",
   "mimetype": "text/x-python",
   "name": "python",
   "nbconvert_exporter": "python",
   "pygments_lexer": "ipython3",
   "version": "3.6.5"
  }
 },
 "nbformat": 4,
 "nbformat_minor": 2
}
