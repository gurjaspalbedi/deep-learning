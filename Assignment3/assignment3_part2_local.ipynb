{
 "cells": [
  {
   "cell_type": "code",
   "execution_count": 23,
   "metadata": {
    "colab": {},
    "colab_type": "code",
    "id": "ukwBGL43t-jf"
   },
   "outputs": [],
   "source": [
    "import torch.nn as nn\n",
    "import librosa\n",
    "import numpy as np\n",
    "import torch\n",
    "import torch.utils.data\n",
    "import matplotlib.pyplot as plt\n",
    "import IPython.display as ipd\n",
    "import os\n",
    "from torch.autograd import Variable"
   ]
  },
  {
   "cell_type": "code",
   "execution_count": 24,
   "metadata": {
    "colab": {
     "base_uri": "https://localhost:8080/",
     "height": 34
    },
    "colab_type": "code",
    "id": "Sf20tXcHuCum",
    "outputId": "2c6508e1-a612-4019-8b38-59ea83c087e7"
   },
   "outputs": [],
   "source": [
    "# from google.colab import drive\n",
    "# drive.mount('/content/drive/')\n",
    "\n",
    "# os.chdir('/content/drive/My Drive/Colab Notebooks')"
   ]
  },
  {
   "cell_type": "code",
   "execution_count": 25,
   "metadata": {
    "colab": {},
    "colab_type": "code",
    "id": "8NAsB5B8t-jj"
   },
   "outputs": [],
   "source": [
    "training_folder = 'tr'\n",
    "validation_folder = 'v'\n",
    "test_folder = 'te'\n",
    "file_extension = '.wav'\n",
    "train_dirty_file_path = 'numpy_files/file_names/train/train_dirty_files.npy'\n",
    "train_speech_file_path = 'numpy_files/file_names/train/train_speech_files.npy'\n",
    "train_noise_file_path = 'numpy_files/file_names/train/train_noise_files.npy'\n",
    "\n",
    "train_librosa_n_list_path = 'numpy_files/librosa_data/train/train_n_list.npy'\n",
    "train_librosa_s_list_path = 'numpy_files/librosa_data/train/train_s_list.npy'\n",
    "train_librosa_x_list_path = 'numpy_files/librosa_data/train/train_x_list.npy'\n",
    "\n",
    "train_librosa_complex_list_path = 'numpy_files/librosa_data/train/train_complex_list.npy'\n",
    "\n",
    "test_dirty_file_path = 'numpy_files/file_names/test/test_dirty_files.npy'\n",
    "test_librosa_x_list_path = 'numpy_files/librosa_data/test/test_x_list.npy'\n",
    "test_librosa_complex_list_path = 'numpy_files/librosa_data/test/test_complex_list.npy'\n",
    "dimension = 513\n",
    "file_count_to_denoise = 1200\n",
    "load_existing_files = True\n",
    "test_files_count = 10\n",
    "epochs = 1\n",
    "sample_rate = 16000\n",
    "save_files = False"
   ]
  },
  {
   "cell_type": "code",
   "execution_count": 26,
   "metadata": {
    "colab": {},
    "colab_type": "code",
    "id": "Tiv77UApt-jn"
   },
   "outputs": [],
   "source": [
    "def get_file_number(number):\n",
    "    return \"0\" * (4 - len(number)) + number + file_extension"
   ]
  },
  {
   "cell_type": "code",
   "execution_count": 27,
   "metadata": {
    "colab": {},
    "colab_type": "code",
    "id": "AFTbDPRZDQrq"
   },
   "outputs": [],
   "source": [
    "def file_exists(file):\n",
    "  return os.path.isfile(file)"
   ]
  },
  {
   "cell_type": "code",
   "execution_count": 28,
   "metadata": {
    "colab": {},
    "colab_type": "code",
    "id": "lNxhKkhPt-jq"
   },
   "outputs": [],
   "source": [
    "def get_files(folder, test=False):\n",
    "  dirty_files = []\n",
    "  speech_files = []\n",
    "  noise_files = []\n",
    "  for i in range(file_count_to_denoise):\n",
    "      dirty_files.append(folder+'/' + folder + 'x'  + get_file_number(str(i)))\n",
    "      if not test:\n",
    "        speech_files.append(folder+'/' + folder +'s' + get_file_number(str(i)))\n",
    "        noise_files.append(folder+ '/' + folder + 'n' + get_file_number(str(i)))\n",
    "  if not test:\n",
    "    return np.array(dirty_files), np.array(speech_files), np.array(noise_files)\n",
    "  return np.array(dirty_files)"
   ]
  },
  {
   "cell_type": "code",
   "execution_count": 29,
   "metadata": {
    "colab": {
     "base_uri": "https://localhost:8080/",
     "height": 34
    },
    "colab_type": "code",
    "id": "UXBAVKj-t-ju",
    "outputId": "e565c98e-cb48-43bf-ce64-60ccf0c7ca45"
   },
   "outputs": [
    {
     "name": "stdout",
     "output_type": "stream",
     "text": [
      "loading existing files\n"
     ]
    }
   ],
   "source": [
    "if load_existing_files:\n",
    "  print('loading existing files')\n",
    "  train_dirty_files = np.load(train_dirty_file_path)\n",
    "  train_speech_files = np.load(train_speech_file_path)\n",
    "  train_noise_files = np.load(train_noise_file_path)\n",
    "\n",
    "else:\n",
    "  train_dirty_files, train_speech_files, train_noise_files = get_files(training_folder)\n",
    "\n",
    "train_dirty_files = train_dirty_files[:file_count_to_denoise].reshape(file_count_to_denoise, 1)\n",
    "train_speech_files = train_speech_files[:file_count_to_denoise].reshape(file_count_to_denoise,1)\n",
    "train_noise_files = train_noise_files[:file_count_to_denoise].reshape(file_count_to_denoise,1)\n",
    "  \n",
    "# if save_files:\n",
    "#   np.save(train_dirty_file_path, train_dirty_files)\n",
    "#   np.save(train_speech_file_path, train_speech_files)\n",
    "#   np.save(train_noise_file_path, train_noise_files)\n",
    " \n",
    "# test_dirty_files, test_speech_files, test_noise_files = get_files(test_folder)\n"
   ]
  },
  {
   "cell_type": "code",
   "execution_count": 30,
   "metadata": {
    "colab": {
     "base_uri": "https://localhost:8080/",
     "height": 67
    },
    "colab_type": "code",
    "id": "zVyPzJNN7Tbl",
    "outputId": "1e138f1a-3740-49c7-8541-420cb0617370"
   },
   "outputs": [
    {
     "name": "stdout",
     "output_type": "stream",
     "text": [
      "(1200, 1)\n",
      "(1200, 1)\n"
     ]
    }
   ],
   "source": [
    "print(train_dirty_files.shape)\n",
    "print(train_speech_files.shape)"
   ]
  },
  {
   "cell_type": "code",
   "execution_count": 31,
   "metadata": {
    "colab": {},
    "colab_type": "code",
    "id": "VUSw-XFot-j1"
   },
   "outputs": [],
   "source": [
    "def get_processed_lists(dirty_files, speech_files, noise_files, test=False):\n",
    "  x_list = np.zeros(shape=(dimension,1))\n",
    "  x_complex = np.zeros(shape=(dimension,1))\n",
    "  s_list = np.zeros(shape=(dimension,1))\n",
    "  n_list = np.zeros(shape=(dimension,1))\n",
    "  for i in range(file_count_to_denoise):\n",
    "      print(\"Running for tile\", str(i))\n",
    "  #     for dirty files\n",
    "      x, srx=librosa.load(dirty_files[i][0], sr=None)\n",
    "      X=librosa.stft(x, n_fft=1024, hop_length=512)\n",
    "  #     for speech files\n",
    "    \n",
    "      s, srs=librosa.load(speech_files[i][0], sr=None)\n",
    "      S=librosa.stft(s, n_fft=1024, hop_length=512)\n",
    "    #     for noise files\n",
    "      n, srn=librosa.load(noise_files[i][0], sr=None)\n",
    "      N=librosa.stft(n, n_fft=1024, hop_length=512)\n",
    "      \n",
    "      \n",
    "      x_abs = np.abs(X)\n",
    "      s_abs = np.abs(S)\n",
    "      n_abs = np.abs(N)\n",
    "      \n",
    "      if x_list.shape[1] == 1:\n",
    "          x_list = x_abs\n",
    "          x_complex = X\n",
    "          s_list = s_abs\n",
    "          n_list = n_abs\n",
    "      else:  \n",
    "          x_list = np.append(x_list, x_abs,1)\n",
    "          x_complex = np.append(x_complex, X, 1)\n",
    "          s_list = np.append(s_list, s_abs,1)\n",
    "          n_list = np.append(n_list, n_abs,1)\n",
    "\n",
    "  x_list = x_list.T\n",
    "  x_complex = x_complex.T\n",
    "  \n",
    "  n_list = n_list.T\n",
    "  s_list = s_list.T\n",
    "   \n",
    "\n",
    "  return s_list,n_list,x_list, x_complex"
   ]
  },
  {
   "cell_type": "code",
   "execution_count": 32,
   "metadata": {},
   "outputs": [],
   "source": [
    "def get_processed_list_test(dirty_files):\n",
    "  x_list = []\n",
    "  x_complex = []\n",
    "    \n",
    "  for i in range(test_files_count):\n",
    "      print(\"Running for tile\", str(i))\n",
    "  #     for dirty files\n",
    "      x, srx=librosa.load(dirty_files[i][0], sr=None)\n",
    "      X=librosa.stft(x, n_fft=1024, hop_length=512)\n",
    "      \n",
    "      \n",
    "      x_abs = np.abs(X)\n",
    " \n",
    "      x_list.append(x_abs)\n",
    "      x_complex.append(X)\n",
    "\n",
    "  return x_list, x_complex"
   ]
  },
  {
   "cell_type": "code",
   "execution_count": 33,
   "metadata": {
    "colab": {},
    "colab_type": "code",
    "id": "SkePBJCJjV21"
   },
   "outputs": [],
   "source": [
    "if load_existing_files:\n",
    "  train_s_list = np.load(train_librosa_s_list_path)\n",
    "  train_n_list = np.load(train_librosa_n_list_path)\n",
    "  train_x_list = np.load(train_librosa_x_list_path)\n",
    "  train_x_complex = np.load(train_librosa_complex_list_path)\n",
    "else:\n",
    "  train_s_list, train_n_list, train_x_list, train_x_complex = get_processed_lists(train_dirty_files, train_speech_files, train_noise_files)"
   ]
  },
  {
   "cell_type": "code",
   "execution_count": 34,
   "metadata": {},
   "outputs": [],
   "source": [
    "# if save_files:\n",
    "#   np.save(train_librosa_s_list_path, train_s_list)\n",
    "#   np.save(train_librosa_n_list_path, train_n_list)\n",
    "#   np.save(train_librosa_x_list_path, train_x_list)\n",
    "#   np.save(train_librosa_complex_list_path, train_x_complex)"
   ]
  },
  {
   "cell_type": "code",
   "execution_count": 35,
   "metadata": {
    "colab": {
     "base_uri": "https://localhost:8080/",
     "height": 84
    },
    "colab_type": "code",
    "id": "rNsW2gY57f6c",
    "outputId": "94cc3d9c-edeb-4132-e514-68600b06b8c2"
   },
   "outputs": [
    {
     "name": "stdout",
     "output_type": "stream",
     "text": [
      "(118550, 513)\n",
      "(118550, 513)\n",
      "(118550, 513)\n"
     ]
    }
   ],
   "source": [
    "print(train_s_list.shape)\n",
    "print(train_x_list.shape)\n",
    "print(train_x_complex.shape)"
   ]
  },
  {
   "cell_type": "code",
   "execution_count": 36,
   "metadata": {
    "colab": {},
    "colab_type": "code",
    "id": "n9B-GB75DNaq"
   },
   "outputs": [],
   "source": [
    "def get_IBM(n_list, s_list):\n",
    "  length = len(s_list)\n",
    "  ibm_list = np.zeros(shape=(length,513))\n",
    "  for i in range(length):\n",
    "    ibm = np.zeros(len(s_list[i]))\n",
    "    ibm[s_list[i] > n_list[i]] = 1\n",
    "    ibm_list[i] = ibm\n",
    "  return ibm_list \n",
    "  "
   ]
  },
  {
   "cell_type": "code",
   "execution_count": 37,
   "metadata": {
    "colab": {},
    "colab_type": "code",
    "id": "kp0x9EkKElOB"
   },
   "outputs": [],
   "source": [
    "\n",
    "ibm = get_IBM(train_n_list, train_s_list)"
   ]
  },
  {
   "cell_type": "code",
   "execution_count": 38,
   "metadata": {
    "colab": {},
    "colab_type": "code",
    "id": "Mt0_OWazHfdE"
   },
   "outputs": [],
   "source": [
    "ibm = np.expand_dims(ibm, 2)\n",
    "train_x_list = np.expand_dims(train_x_list, 2)"
   ]
  },
  {
   "cell_type": "code",
   "execution_count": 39,
   "metadata": {
    "colab": {},
    "colab_type": "code",
    "id": "HSxTYrfN_96X"
   },
   "outputs": [],
   "source": [
    "# BATCH = 10\n",
    "# train_loader = torch.utils.data.DataLoader(train_x_list, batch_size=BATCH)\n",
    "# test_loader = torch.utils.data.DataLoader(ibm, batch_size=BATCH)"
   ]
  },
  {
   "cell_type": "code",
   "execution_count": 40,
   "metadata": {
    "colab": {
     "base_uri": "https://localhost:8080/",
     "height": 84
    },
    "colab_type": "code",
    "id": "3rqxA59G7YE2",
    "outputId": "6db2c3a4-dfe7-4a3e-97d6-773d281ccd71"
   },
   "outputs": [
    {
     "ename": "RuntimeError",
     "evalue": "CUDA error: unspecified launch failure",
     "output_type": "error",
     "traceback": [
      "\u001b[1;31m---------------------------------------------------------------------------\u001b[0m",
      "\u001b[1;31mRuntimeError\u001b[0m                              Traceback (most recent call last)",
      "\u001b[1;32m<ipython-input-40-247ea49a028b>\u001b[0m in \u001b[0;36m<module>\u001b[1;34m()\u001b[0m\n\u001b[0;32m     24\u001b[0m \u001b[1;31m#         pred[less] = 0\u001b[0m\u001b[1;33m\u001b[0m\u001b[1;33m\u001b[0m\u001b[0m\n\u001b[0;32m     25\u001b[0m         \u001b[1;32mreturn\u001b[0m \u001b[0mpred\u001b[0m\u001b[1;33m\u001b[0m\u001b[0m\n\u001b[1;32m---> 26\u001b[1;33m \u001b[0mmodel\u001b[0m \u001b[1;33m=\u001b[0m \u001b[0mGRU\u001b[0m\u001b[1;33m(\u001b[0m\u001b[1;36m1\u001b[0m\u001b[1;33m,\u001b[0m \u001b[1;36m1\u001b[0m\u001b[1;33m)\u001b[0m\u001b[1;33m.\u001b[0m\u001b[0mcuda\u001b[0m\u001b[1;33m(\u001b[0m\u001b[1;33m)\u001b[0m\u001b[1;33m\u001b[0m\u001b[0m\n\u001b[0m\u001b[0;32m     27\u001b[0m \u001b[0mprint\u001b[0m\u001b[1;33m(\u001b[0m\u001b[0mmodel\u001b[0m\u001b[1;33m)\u001b[0m\u001b[1;33m\u001b[0m\u001b[0m\n",
      "\u001b[1;32m~\\Anaconda3\\lib\\site-packages\\torch\\nn\\modules\\module.py\u001b[0m in \u001b[0;36mcuda\u001b[1;34m(self, device)\u001b[0m\n\u001b[0;32m    258\u001b[0m             \u001b[0mModule\u001b[0m\u001b[1;33m:\u001b[0m \u001b[0mself\u001b[0m\u001b[1;33m\u001b[0m\u001b[0m\n\u001b[0;32m    259\u001b[0m         \"\"\"\n\u001b[1;32m--> 260\u001b[1;33m         \u001b[1;32mreturn\u001b[0m \u001b[0mself\u001b[0m\u001b[1;33m.\u001b[0m\u001b[0m_apply\u001b[0m\u001b[1;33m(\u001b[0m\u001b[1;32mlambda\u001b[0m \u001b[0mt\u001b[0m\u001b[1;33m:\u001b[0m \u001b[0mt\u001b[0m\u001b[1;33m.\u001b[0m\u001b[0mcuda\u001b[0m\u001b[1;33m(\u001b[0m\u001b[0mdevice\u001b[0m\u001b[1;33m)\u001b[0m\u001b[1;33m)\u001b[0m\u001b[1;33m\u001b[0m\u001b[0m\n\u001b[0m\u001b[0;32m    261\u001b[0m \u001b[1;33m\u001b[0m\u001b[0m\n\u001b[0;32m    262\u001b[0m     \u001b[1;32mdef\u001b[0m \u001b[0mcpu\u001b[0m\u001b[1;33m(\u001b[0m\u001b[0mself\u001b[0m\u001b[1;33m)\u001b[0m\u001b[1;33m:\u001b[0m\u001b[1;33m\u001b[0m\u001b[0m\n",
      "\u001b[1;32m~\\Anaconda3\\lib\\site-packages\\torch\\nn\\modules\\module.py\u001b[0m in \u001b[0;36m_apply\u001b[1;34m(self, fn)\u001b[0m\n\u001b[0;32m    185\u001b[0m     \u001b[1;32mdef\u001b[0m \u001b[0m_apply\u001b[0m\u001b[1;33m(\u001b[0m\u001b[0mself\u001b[0m\u001b[1;33m,\u001b[0m \u001b[0mfn\u001b[0m\u001b[1;33m)\u001b[0m\u001b[1;33m:\u001b[0m\u001b[1;33m\u001b[0m\u001b[0m\n\u001b[0;32m    186\u001b[0m         \u001b[1;32mfor\u001b[0m \u001b[0mmodule\u001b[0m \u001b[1;32min\u001b[0m \u001b[0mself\u001b[0m\u001b[1;33m.\u001b[0m\u001b[0mchildren\u001b[0m\u001b[1;33m(\u001b[0m\u001b[1;33m)\u001b[0m\u001b[1;33m:\u001b[0m\u001b[1;33m\u001b[0m\u001b[0m\n\u001b[1;32m--> 187\u001b[1;33m             \u001b[0mmodule\u001b[0m\u001b[1;33m.\u001b[0m\u001b[0m_apply\u001b[0m\u001b[1;33m(\u001b[0m\u001b[0mfn\u001b[0m\u001b[1;33m)\u001b[0m\u001b[1;33m\u001b[0m\u001b[0m\n\u001b[0m\u001b[0;32m    188\u001b[0m \u001b[1;33m\u001b[0m\u001b[0m\n\u001b[0;32m    189\u001b[0m         \u001b[1;32mfor\u001b[0m \u001b[0mparam\u001b[0m \u001b[1;32min\u001b[0m \u001b[0mself\u001b[0m\u001b[1;33m.\u001b[0m\u001b[0m_parameters\u001b[0m\u001b[1;33m.\u001b[0m\u001b[0mvalues\u001b[0m\u001b[1;33m(\u001b[0m\u001b[1;33m)\u001b[0m\u001b[1;33m:\u001b[0m\u001b[1;33m\u001b[0m\u001b[0m\n",
      "\u001b[1;32m~\\Anaconda3\\lib\\site-packages\\torch\\nn\\modules\\rnn.py\u001b[0m in \u001b[0;36m_apply\u001b[1;34m(self, fn)\u001b[0m\n\u001b[0;32m    114\u001b[0m \u001b[1;33m\u001b[0m\u001b[0m\n\u001b[0;32m    115\u001b[0m     \u001b[1;32mdef\u001b[0m \u001b[0m_apply\u001b[0m\u001b[1;33m(\u001b[0m\u001b[0mself\u001b[0m\u001b[1;33m,\u001b[0m \u001b[0mfn\u001b[0m\u001b[1;33m)\u001b[0m\u001b[1;33m:\u001b[0m\u001b[1;33m\u001b[0m\u001b[0m\n\u001b[1;32m--> 116\u001b[1;33m         \u001b[0mret\u001b[0m \u001b[1;33m=\u001b[0m \u001b[0msuper\u001b[0m\u001b[1;33m(\u001b[0m\u001b[0mRNNBase\u001b[0m\u001b[1;33m,\u001b[0m \u001b[0mself\u001b[0m\u001b[1;33m)\u001b[0m\u001b[1;33m.\u001b[0m\u001b[0m_apply\u001b[0m\u001b[1;33m(\u001b[0m\u001b[0mfn\u001b[0m\u001b[1;33m)\u001b[0m\u001b[1;33m\u001b[0m\u001b[0m\n\u001b[0m\u001b[0;32m    117\u001b[0m         \u001b[0mself\u001b[0m\u001b[1;33m.\u001b[0m\u001b[0mflatten_parameters\u001b[0m\u001b[1;33m(\u001b[0m\u001b[1;33m)\u001b[0m\u001b[1;33m\u001b[0m\u001b[0m\n\u001b[0;32m    118\u001b[0m         \u001b[1;32mreturn\u001b[0m \u001b[0mret\u001b[0m\u001b[1;33m\u001b[0m\u001b[0m\n",
      "\u001b[1;32m~\\Anaconda3\\lib\\site-packages\\torch\\nn\\modules\\module.py\u001b[0m in \u001b[0;36m_apply\u001b[1;34m(self, fn)\u001b[0m\n\u001b[0;32m    191\u001b[0m                 \u001b[1;31m# Tensors stored in modules are graph leaves, and we don't\u001b[0m\u001b[1;33m\u001b[0m\u001b[1;33m\u001b[0m\u001b[0m\n\u001b[0;32m    192\u001b[0m                 \u001b[1;31m# want to create copy nodes, so we have to unpack the data.\u001b[0m\u001b[1;33m\u001b[0m\u001b[1;33m\u001b[0m\u001b[0m\n\u001b[1;32m--> 193\u001b[1;33m                 \u001b[0mparam\u001b[0m\u001b[1;33m.\u001b[0m\u001b[0mdata\u001b[0m \u001b[1;33m=\u001b[0m \u001b[0mfn\u001b[0m\u001b[1;33m(\u001b[0m\u001b[0mparam\u001b[0m\u001b[1;33m.\u001b[0m\u001b[0mdata\u001b[0m\u001b[1;33m)\u001b[0m\u001b[1;33m\u001b[0m\u001b[0m\n\u001b[0m\u001b[0;32m    194\u001b[0m                 \u001b[1;32mif\u001b[0m \u001b[0mparam\u001b[0m\u001b[1;33m.\u001b[0m\u001b[0m_grad\u001b[0m \u001b[1;32mis\u001b[0m \u001b[1;32mnot\u001b[0m \u001b[1;32mNone\u001b[0m\u001b[1;33m:\u001b[0m\u001b[1;33m\u001b[0m\u001b[0m\n\u001b[0;32m    195\u001b[0m                     \u001b[0mparam\u001b[0m\u001b[1;33m.\u001b[0m\u001b[0m_grad\u001b[0m\u001b[1;33m.\u001b[0m\u001b[0mdata\u001b[0m \u001b[1;33m=\u001b[0m \u001b[0mfn\u001b[0m\u001b[1;33m(\u001b[0m\u001b[0mparam\u001b[0m\u001b[1;33m.\u001b[0m\u001b[0m_grad\u001b[0m\u001b[1;33m.\u001b[0m\u001b[0mdata\u001b[0m\u001b[1;33m)\u001b[0m\u001b[1;33m\u001b[0m\u001b[0m\n",
      "\u001b[1;32m~\\Anaconda3\\lib\\site-packages\\torch\\nn\\modules\\module.py\u001b[0m in \u001b[0;36m<lambda>\u001b[1;34m(t)\u001b[0m\n\u001b[0;32m    258\u001b[0m             \u001b[0mModule\u001b[0m\u001b[1;33m:\u001b[0m \u001b[0mself\u001b[0m\u001b[1;33m\u001b[0m\u001b[0m\n\u001b[0;32m    259\u001b[0m         \"\"\"\n\u001b[1;32m--> 260\u001b[1;33m         \u001b[1;32mreturn\u001b[0m \u001b[0mself\u001b[0m\u001b[1;33m.\u001b[0m\u001b[0m_apply\u001b[0m\u001b[1;33m(\u001b[0m\u001b[1;32mlambda\u001b[0m \u001b[0mt\u001b[0m\u001b[1;33m:\u001b[0m \u001b[0mt\u001b[0m\u001b[1;33m.\u001b[0m\u001b[0mcuda\u001b[0m\u001b[1;33m(\u001b[0m\u001b[0mdevice\u001b[0m\u001b[1;33m)\u001b[0m\u001b[1;33m)\u001b[0m\u001b[1;33m\u001b[0m\u001b[0m\n\u001b[0m\u001b[0;32m    261\u001b[0m \u001b[1;33m\u001b[0m\u001b[0m\n\u001b[0;32m    262\u001b[0m     \u001b[1;32mdef\u001b[0m \u001b[0mcpu\u001b[0m\u001b[1;33m(\u001b[0m\u001b[0mself\u001b[0m\u001b[1;33m)\u001b[0m\u001b[1;33m:\u001b[0m\u001b[1;33m\u001b[0m\u001b[0m\n",
      "\u001b[1;31mRuntimeError\u001b[0m: CUDA error: unspecified launch failure"
     ]
    }
   ],
   "source": [
    "#Ref : https://nipunbatra.github.io/blog/2018/denoising.html\n",
    "class GRU(nn.Module):\n",
    "    \n",
    "#     def step(self, pred):\n",
    "#         greater = pred >=0.5\n",
    "#         less = pred < 0.5\n",
    "#         pred[greater] = 1\n",
    "#         pred[less] = 0\n",
    "#         return pred\n",
    "  \n",
    "    def __init__(self, input_size, hidden_size):\n",
    "        super(GRU, self).__init__()\n",
    "        self.rnn = nn.LSTM(input_size=input_size, hidden_size=hidden_size)\n",
    "        self.linear = nn.Linear(hidden_size, 1)\n",
    "        self.act = torch.sigmoid\n",
    "        \n",
    "    def forward(self, x):\n",
    "        pred, hidden = self.rnn(x, None)\n",
    "        pred = self.act(self.linear(pred)).view(pred.data.shape[0], -1, 1)\n",
    "        \n",
    "#         greater = pred >=0.5\n",
    "#         less = pred < 0.5\n",
    "#         pred[greater] = 1\n",
    "#         pred[less] = 0\n",
    "        return pred\n",
    "model = GRU(1, 1).cuda()\n",
    "print(model)"
   ]
  },
  {
   "cell_type": "code",
   "execution_count": 43,
   "metadata": {
    "colab": {
     "base_uri": "https://localhost:8080/",
     "height": 733
    },
    "colab_type": "code",
    "id": "q8jJdrTx_aQa",
    "outputId": "f21262b7-fc94-4e0a-b12d-de5632e551d2",
    "scrolled": false
   },
   "outputs": [
    {
     "name": "stdout",
     "output_type": "stream",
     "text": [
      "tensor([[[0.3853],\n",
      "         [0.0942],\n",
      "         [0.0525],\n",
      "         ...,\n",
      "         [0.1368],\n",
      "         [0.0008],\n",
      "         [0.0761]],\n",
      "\n",
      "        [[0.0605],\n",
      "         [0.2775],\n",
      "         [0.6325],\n",
      "         ...,\n",
      "         [0.0603],\n",
      "         [0.0517],\n",
      "         [0.0866]],\n",
      "\n",
      "        [[0.0117],\n",
      "         [0.2630],\n",
      "         [0.5427],\n",
      "         ...,\n",
      "         [0.0914],\n",
      "         [0.0500],\n",
      "         [0.0138]],\n",
      "\n",
      "        ...,\n",
      "\n",
      "        [[0.3467],\n",
      "         [0.2731],\n",
      "         [0.1912],\n",
      "         ...,\n",
      "         [0.1886],\n",
      "         [0.0834],\n",
      "         [0.1052]],\n",
      "\n",
      "        [[0.1575],\n",
      "         [0.2372],\n",
      "         [0.0755],\n",
      "         ...,\n",
      "         [0.0502],\n",
      "         [0.0623],\n",
      "         [0.0383]],\n",
      "\n",
      "        [[0.2707],\n",
      "         [0.1212],\n",
      "         [0.0507],\n",
      "         ...,\n",
      "         [0.0974],\n",
      "         [0.0742],\n",
      "         [0.0487]]], requires_grad=True)\n"
     ]
    },
    {
     "ename": "RuntimeError",
     "evalue": "CUDA error: unspecified launch failure",
     "output_type": "error",
     "traceback": [
      "\u001b[1;31m---------------------------------------------------------------------------\u001b[0m",
      "\u001b[1;31mRuntimeError\u001b[0m                              Traceback (most recent call last)",
      "\u001b[1;32m<ipython-input-43-5044316094bb>\u001b[0m in \u001b[0;36m<module>\u001b[1;34m()\u001b[0m\n\u001b[0;32m      7\u001b[0m \u001b[1;32mfor\u001b[0m \u001b[0mi\u001b[0m \u001b[1;32min\u001b[0m \u001b[0mrange\u001b[0m\u001b[1;33m(\u001b[0m\u001b[0mepochs\u001b[0m\u001b[1;33m)\u001b[0m\u001b[1;33m:\u001b[0m\u001b[1;33m\u001b[0m\u001b[0m\n\u001b[0;32m      8\u001b[0m     \u001b[0mprint\u001b[0m\u001b[1;33m(\u001b[0m\u001b[0mVariable\u001b[0m\u001b[1;33m(\u001b[0m\u001b[0mtorch\u001b[0m\u001b[1;33m.\u001b[0m\u001b[0mTensor\u001b[0m\u001b[1;33m(\u001b[0m\u001b[0mx_train\u001b[0m\u001b[1;33m.\u001b[0m\u001b[0mreshape\u001b[0m\u001b[1;33m(\u001b[0m\u001b[1;33m(\u001b[0m\u001b[0mx_train\u001b[0m\u001b[1;33m.\u001b[0m\u001b[0mshape\u001b[0m\u001b[1;33m[\u001b[0m\u001b[1;36m0\u001b[0m\u001b[1;33m]\u001b[0m\u001b[1;33m,\u001b[0m \u001b[1;33m-\u001b[0m\u001b[1;36m1\u001b[0m\u001b[1;33m,\u001b[0m \u001b[1;36m1\u001b[0m\u001b[1;33m)\u001b[0m\u001b[1;33m)\u001b[0m\u001b[1;33m)\u001b[0m\u001b[1;33m,\u001b[0m \u001b[0mrequires_grad\u001b[0m\u001b[1;33m=\u001b[0m\u001b[1;32mTrue\u001b[0m\u001b[1;33m)\u001b[0m\u001b[1;33m)\u001b[0m\u001b[1;33m\u001b[0m\u001b[0m\n\u001b[1;32m----> 9\u001b[1;33m     \u001b[0mmodel_input\u001b[0m \u001b[1;33m=\u001b[0m \u001b[0mVariable\u001b[0m\u001b[1;33m(\u001b[0m\u001b[0mtorch\u001b[0m\u001b[1;33m.\u001b[0m\u001b[0mTensor\u001b[0m\u001b[1;33m(\u001b[0m\u001b[0mx_train\u001b[0m\u001b[1;33m.\u001b[0m\u001b[0mreshape\u001b[0m\u001b[1;33m(\u001b[0m\u001b[1;33m(\u001b[0m\u001b[0mx_train\u001b[0m\u001b[1;33m.\u001b[0m\u001b[0mshape\u001b[0m\u001b[1;33m[\u001b[0m\u001b[1;36m0\u001b[0m\u001b[1;33m]\u001b[0m\u001b[1;33m,\u001b[0m \u001b[1;33m-\u001b[0m\u001b[1;36m1\u001b[0m\u001b[1;33m,\u001b[0m \u001b[1;36m1\u001b[0m\u001b[1;33m)\u001b[0m\u001b[1;33m)\u001b[0m\u001b[1;33m)\u001b[0m\u001b[1;33m,\u001b[0m \u001b[0mrequires_grad\u001b[0m\u001b[1;33m=\u001b[0m\u001b[1;32mTrue\u001b[0m\u001b[1;33m)\u001b[0m\u001b[1;33m.\u001b[0m\u001b[0mcuda\u001b[0m\u001b[1;33m(\u001b[0m\u001b[1;33m)\u001b[0m\u001b[1;33m\u001b[0m\u001b[0m\n\u001b[0m\u001b[0;32m     10\u001b[0m     \u001b[0mtarget\u001b[0m \u001b[1;33m=\u001b[0m \u001b[0mVariable\u001b[0m\u001b[1;33m(\u001b[0m\u001b[0mtorch\u001b[0m\u001b[1;33m.\u001b[0m\u001b[0mTensor\u001b[0m\u001b[1;33m(\u001b[0m\u001b[0my_train\u001b[0m\u001b[1;33m.\u001b[0m\u001b[0mreshape\u001b[0m\u001b[1;33m(\u001b[0m\u001b[1;33m(\u001b[0m\u001b[0my_train\u001b[0m\u001b[1;33m.\u001b[0m\u001b[0mshape\u001b[0m\u001b[1;33m[\u001b[0m\u001b[1;36m0\u001b[0m\u001b[1;33m]\u001b[0m\u001b[1;33m,\u001b[0m \u001b[1;33m-\u001b[0m\u001b[1;36m1\u001b[0m\u001b[1;33m,\u001b[0m \u001b[1;36m1\u001b[0m\u001b[1;33m)\u001b[0m\u001b[1;33m)\u001b[0m\u001b[1;33m)\u001b[0m \u001b[1;33m)\u001b[0m\u001b[1;33m.\u001b[0m\u001b[0mcuda\u001b[0m\u001b[1;33m(\u001b[0m\u001b[1;33m)\u001b[0m\u001b[1;33m\u001b[0m\u001b[0m\n\u001b[0;32m     11\u001b[0m     \u001b[0moptimizer\u001b[0m\u001b[1;33m.\u001b[0m\u001b[0mzero_grad\u001b[0m\u001b[1;33m(\u001b[0m\u001b[1;33m)\u001b[0m\u001b[1;33m\u001b[0m\u001b[0m\n",
      "\u001b[1;31mRuntimeError\u001b[0m: CUDA error: unspecified launch failure"
     ]
    }
   ],
   "source": [
    "loss_function= nn.MSELoss()\n",
    "para = model.parameters()\n",
    "optimizer = torch.optim.Adam(params=para, lr=0.001)\n",
    "loss_list = []\n",
    "x_train = train_x_list\n",
    "y_train = ibm\n",
    "for i in range(epochs):            \n",
    "    model_input = Variable(torch.Tensor(x_train.reshape((x_train.shape[0], -1, 1))), requires_grad=True).cuda()\n",
    "    target = Variable(torch.Tensor(y_train.reshape((y_train.shape[0], -1, 1))) ).cuda()\n",
    "    optimizer.zero_grad()\n",
    "    network_output  = model(model_input)\n",
    "    print(network_output.shape)\n",
    "    print(target.shape)\n",
    "    loss = loss_function(network_output , target)\n",
    "    loss.backward()\n",
    "    optimizer.step()\n",
    "    numpy_loss = loss.data.cpu().numpy()\n",
    "    print(\"Epoch\" + str(i) , \"Loss\" + str(numpy_loss))\n",
    "    loss_list.append(numpy_loss)\n",
    "plt.plot(range(epochs), loss_list)\n",
    "plt.show()      "
   ]
  },
  {
   "cell_type": "code",
   "execution_count": null,
   "metadata": {
    "colab": {},
    "colab_type": "code",
    "id": "k4F5ZTmll3hn"
   },
   "outputs": [],
   "source": [
    "# validation_dirty_files, validation_speech_files, validation_noise_files = get_files(validation_folder)\n",
    "if load_existing_files:\n",
    "  test_dirty_files = np.load(test_dirty_file_path)\n",
    "else:\n",
    "  test_dirty_files = get_files(test_folder, True)\n"
   ]
  },
  {
   "cell_type": "code",
   "execution_count": null,
   "metadata": {},
   "outputs": [],
   "source": [
    "test_dirty_files = test_dirty_files.reshape(test_dirty_files.shape[0], 1)"
   ]
  },
  {
   "cell_type": "code",
   "execution_count": null,
   "metadata": {},
   "outputs": [],
   "source": [
    "print(test_dirty_files.shape)\n",
    "# if save_files:\n",
    "#   np.save(test_dirty_file_path, test_dirty_files)"
   ]
  },
  {
   "cell_type": "code",
   "execution_count": null,
   "metadata": {},
   "outputs": [],
   "source": [
    "test_dirty_files.shape"
   ]
  },
  {
   "cell_type": "markdown",
   "metadata": {
    "colab_type": "text",
    "id": "fEReVxr3nILP"
   },
   "source": [
    "**--------------------------------------------------------------------------------------------------Testing Begins-----------------------------------------------------**"
   ]
  },
  {
   "cell_type": "code",
   "execution_count": null,
   "metadata": {
    "colab": {},
    "colab_type": "code",
    "id": "eFFkjf-ul_aQ",
    "scrolled": false
   },
   "outputs": [],
   "source": [
    "# validation_s_list, validation_n_list, validation_x_list = get_processed_lists(validation_dirty_files, validation_speech_files, validation_noise_files)\n",
    "# if load_existing_files:\n",
    "#   test_x_list = np.load(test_librosa_x_list_path)\n",
    "#   test_x_complex = np.load(test_librosa_complex_list_path)\n",
    "# else:\n",
    "test_x_list, test_x_complex = get_processed_list_test(test_dirty_files)\n",
    "x_list = test_x_list"
   ]
  },
  {
   "cell_type": "code",
   "execution_count": null,
   "metadata": {},
   "outputs": [],
   "source": [
    "len(test_x_list)"
   ]
  },
  {
   "cell_type": "code",
   "execution_count": null,
   "metadata": {},
   "outputs": [],
   "source": [
    "test_x_list[11].shape"
   ]
  },
  {
   "cell_type": "code",
   "execution_count": null,
   "metadata": {},
   "outputs": [],
   "source": [
    "np.array(test_x_list)"
   ]
  },
  {
   "cell_type": "code",
   "execution_count": null,
   "metadata": {},
   "outputs": [],
   "source": [
    "# if save_files:\n",
    "#   np.save(test_librosa_x_list_path, test_x_list)\n",
    "#   np.save(test_librosa_complex_list_path, test_x_complex)"
   ]
  },
  {
   "cell_type": "code",
   "execution_count": null,
   "metadata": {},
   "outputs": [],
   "source": [
    "x_list[0].shape"
   ]
  },
  {
   "cell_type": "code",
   "execution_count": null,
   "metadata": {},
   "outputs": [],
   "source": [
    "x_list[0].reshape(x_list[0].shape[0],x_list[0].shape[1], 1).shape"
   ]
  },
  {
   "cell_type": "code",
   "execution_count": null,
   "metadata": {
    "colab": {},
    "colab_type": "code",
    "id": "nn5BX_a9l2Gp"
   },
   "outputs": [],
   "source": [
    "output_istft = []\n",
    "for i in range(len(x_list)):\n",
    "    model_input = Variable(torch.Tensor(x_list[i].reshape(x_list[i].shape[0],x_list[i].shape[1], 1)))\n",
    "    prediction = model(model_input.cuda())\n",
    "    y = prediction.detach().cpu().numpy()\n",
    "    print(y.shape)\n",
    "#     print(test_x_complex.shape)\n",
    "#     print(y.shape)\n",
    "    result = np.multiply(test_x_complex[i],y.reshape(y.shape[0],y.shape[1]))\n",
    "    # spec_istft = librosa.istft(spec, hop_length=512)\n",
    "    result_istft = librosa.istft(result, hop_length=512)\n",
    "    result_istft = result_istft.reshape(result_istft.shape[0],1)\n",
    "    output_istft.append(result_istft)\n",
    "#     print(result.shape)"
   ]
  },
  {
   "cell_type": "code",
   "execution_count": null,
   "metadata": {
    "colab": {},
    "colab_type": "code",
    "id": "Jhcxz5W5p37H"
   },
   "outputs": [],
   "source": [
    "# prediction = 1 * (prediction > 0.5)"
   ]
  },
  {
   "cell_type": "code",
   "execution_count": null,
   "metadata": {
    "colab": {},
    "colab_type": "code",
    "id": "KeBOCqKotfLV"
   },
   "outputs": [],
   "source": [
    "# m_input =  model_input.detach().numpy()\n",
    "\n",
    "# spec = (m_input.reshape(dimension,result.shape[0]) / np.abs(m_input).reshape(dimension,result.shape[0])) * result.T"
   ]
  },
  {
   "cell_type": "code",
   "execution_count": null,
   "metadata": {
    "colab": {},
    "colab_type": "code",
    "id": "tAwR4O704CR0"
   },
   "outputs": [],
   "source": [
    "# print(srs)\n",
    "# print(srn)\n",
    "# print(srx)\n",
    "# librosa.output.write_wav('validation2.wav', spec_istft, srs)\n",
    "librosa.output.write_wav('test_result.wav', output_istft[0], sample_rate)"
   ]
  },
  {
   "cell_type": "code",
   "execution_count": null,
   "metadata": {
    "colab": {},
    "colab_type": "code",
    "id": "Pw376hOc4FAV"
   },
   "outputs": [],
   "source": [
    "# ipd.Audio('validation2.wav')\n"
   ]
  },
  {
   "cell_type": "code",
   "execution_count": null,
   "metadata": {
    "colab": {},
    "colab_type": "code",
    "id": "0TwNesbyDrmh"
   },
   "outputs": [],
   "source": [
    "ipd.Audio('test_result.wav')"
   ]
  },
  {
   "cell_type": "code",
   "execution_count": null,
   "metadata": {
    "colab": {},
    "colab_type": "code",
    "id": "h2frwnvE4W8N"
   },
   "outputs": [],
   "source": [
    "# s = test_x_complex\n",
    "# print(s.shape)\n",
    "# y = y.reshape(result.shape[0], dimension)\n",
    "# print(y.shape)\n",
    "# print(np.max(y))"
   ]
  },
  {
   "cell_type": "code",
   "execution_count": null,
   "metadata": {
    "colab": {},
    "colab_type": "code",
    "id": "gLv7c7acB7iy"
   },
   "outputs": [],
   "source": [
    "# print(10*np.log10(np.sum(np.square(test_x_complex)/(np.sum(np.square(np.subtract(test_x_complex ,y)))))))"
   ]
  },
  {
   "cell_type": "code",
   "execution_count": null,
   "metadata": {
    "colab": {},
    "colab_type": "code",
    "id": "JQ2XrngztpGU"
   },
   "outputs": [],
   "source": []
  },
  {
   "cell_type": "code",
   "execution_count": null,
   "metadata": {
    "colab": {},
    "colab_type": "code",
    "id": "GNg-S5nD2Zo5"
   },
   "outputs": [],
   "source": []
  }
 ],
 "metadata": {
  "accelerator": "GPU",
  "colab": {
   "collapsed_sections": [],
   "name": "assignment3_part2.ipynb",
   "provenance": [],
   "version": "0.3.2"
  },
  "kernelspec": {
   "display_name": "Python 3",
   "language": "python",
   "name": "python3"
  },
  "language_info": {
   "codemirror_mode": {
    "name": "ipython",
    "version": 3
   },
   "file_extension": ".py",
   "mimetype": "text/x-python",
   "name": "python",
   "nbconvert_exporter": "python",
   "pygments_lexer": "ipython3",
   "version": "3.6.5"
  }
 },
 "nbformat": 4,
 "nbformat_minor": 1
}
