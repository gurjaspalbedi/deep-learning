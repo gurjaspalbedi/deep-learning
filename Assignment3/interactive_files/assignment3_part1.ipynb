{
 "cells": [
  {
   "cell_type": "code",
   "execution_count": 1,
   "metadata": {},
   "outputs": [
    {
     "name": "stdout",
     "output_type": "stream",
     "text": [
      "Torch 1.0.0 CUDA 9.0\n",
      "Device: cuda:0\n",
      "True\n"
     ]
    }
   ],
   "source": [
    "# Importing the libraries \n",
    "import torch\n",
    "import torchvision\n",
    "import torchvision.transforms as transforms\n",
    "import torchvision.datasets as datasets\n",
    "import numpy as np\n",
    "import matplotlib.pyplot as plt\n",
    "import torch.nn as nn\n",
    "from sklearn.decomposition import PCA\n",
    "from sklearn.manifold import TSNE\n",
    "import matplotlib.cm as cm\n",
    "import pandas as pd\n",
    "from torchsummary import summary\n",
    "\n",
    "# Checking the availability of CUDA on machine\n",
    "print(\"Torch\", torch.__version__, \"CUDA\", torch.version.cuda)\n",
    "print(\"Device:\", torch.device(\"cuda:0\"))\n",
    "print(torch.cuda.is_available())"
   ]
  },
  {
   "cell_type": "code",
   "execution_count": 2,
   "metadata": {},
   "outputs": [],
   "source": [
    "epochs = 50"
   ]
  },
  {
   "cell_type": "code",
   "execution_count": 3,
   "metadata": {},
   "outputs": [],
   "source": [
    "# Loading the data taking 200 at a time\n",
    "BATCH = 200\n",
    "transform = transforms.Compose(\n",
    "    [transforms.ToTensor(), transforms.Normalize((0.1307,), (0.3081,))]\n",
    ")\n",
    "\n",
    "train_set = torchvision.datasets.MNIST(\n",
    "    \"mnist_data\", transform=transform, train=True, download=True\n",
    ")\n",
    "\n",
    "train_loader = torch.utils.data.DataLoader(train_set, batch_size=BATCH)\n",
    "\n",
    "test_set = torchvision.datasets.MNIST(\n",
    "    \"mnist_data\", transform=transform, train=False, download=True,\n",
    ")\n",
    "\n",
    "test_loader = torch.utils.data.DataLoader(test_set, batch_size=BATCH)"
   ]
  },
  {
   "cell_type": "code",
   "execution_count": 4,
   "metadata": {},
   "outputs": [],
   "source": [
    "# I learning Pytorch using the following playlist on youtube\n",
    "# A part of this code in this cell is take from those learning\n",
    "# https://www.youtube.com/watch?v=v5cngxo4mIg&list=PLZbbT5o_s2xrfNyHZsM6ufI0iZENK9xgG\n",
    "class NeuralNet(nn.Module):\n",
    "    def __init__(self):\n",
    "        super(NeuralNet, self).__init__()\n",
    "        self.input_layer = nn.Linear(28 * 28, 1024)\n",
    "        self.hidden_layer1 = nn.Linear(1024, 1024)\n",
    "        self.hidden_layer2 = nn.Linear(1024, 1024)\n",
    "        self.hidden_layer3 = nn.Linear(1024, 1024)\n",
    "        self.hidden_layer4 = nn.Linear(1024, 1024)\n",
    "        self.output_layer = nn.Linear(1024, 10)\n",
    "        self.activation = nn.ReLU()\n",
    "\n",
    "    def forward(self, data):\n",
    "        data = data.view(-1, 28 * 28).cuda()\n",
    "        self.data = data\n",
    "        self.output_input_layer = self.activation(self.input_layer(data))\n",
    "        self.output_1st_hidden = self.activation(\n",
    "            self.hidden_layer1(self.output_input_layer)\n",
    "        )\n",
    "        self.output_2nd_hidden = self.activation(\n",
    "            self.hidden_layer2(self.output_1st_hidden)\n",
    "        )\n",
    "        self.output_3rd_hidden = self.activation(\n",
    "            self.hidden_layer3(self.output_2nd_hidden)\n",
    "        )\n",
    "        self.output_4th_hidden = self.activation(\n",
    "            self.hidden_layer4(self.output_3rd_hidden)\n",
    "        )\n",
    "        self.final_output = self.output_layer(self.output_4th_hidden)\n",
    "        self.softmax_output = torch.nn.functional.log_softmax(self.final_output, dim=1)\n",
    "        return self.softmax_output\n",
    "\n"
   ]
  },
  {
   "cell_type": "code",
   "execution_count": 5,
   "metadata": {},
   "outputs": [
    {
     "name": "stdout",
     "output_type": "stream",
     "text": [
      "----------------------------------------------------------------\n",
      "        Layer (type)               Output Shape         Param #\n",
      "================================================================\n",
      "            Linear-1                 [-1, 1024]         803,840\n",
      "              ReLU-2                 [-1, 1024]               0\n",
      "            Linear-3                 [-1, 1024]       1,049,600\n",
      "              ReLU-4                 [-1, 1024]               0\n",
      "            Linear-5                 [-1, 1024]       1,049,600\n",
      "              ReLU-6                 [-1, 1024]               0\n",
      "            Linear-7                 [-1, 1024]       1,049,600\n",
      "              ReLU-8                 [-1, 1024]               0\n",
      "            Linear-9                 [-1, 1024]       1,049,600\n",
      "             ReLU-10                 [-1, 1024]               0\n",
      "           Linear-11                   [-1, 10]          10,250\n",
      "================================================================\n",
      "Total params: 5,012,490\n",
      "Trainable params: 5,012,490\n",
      "Non-trainable params: 0\n",
      "----------------------------------------------------------------\n",
      "Input size (MB): 0.00\n",
      "Forward/backward pass size (MB): 0.08\n",
      "Params size (MB): 19.12\n",
      "Estimated Total Size (MB): 19.20\n",
      "----------------------------------------------------------------\n"
     ]
    }
   ],
   "source": [
    "neural_network = NeuralNet().cuda()\n",
    "summary(neural_network, (28,28))"
   ]
  },
  {
   "cell_type": "code",
   "execution_count": 6,
   "metadata": {},
   "outputs": [
    {
     "name": "stdout",
     "output_type": "stream",
     "text": [
      "tensor(0.0004, device='cuda:0')\n"
     ]
    },
    {
     "data": {
      "image/png": "[encoded data removed]",
      "text/plain": [
       "<Figure size 432x288 with 1 Axes>"
      ]
     },
     "metadata": {},
     "output_type": "display_data"
    }
   ],
   "source": [
    "#Training the network\n",
    "\n",
    "loss_function = nn.CrossEntropyLoss()\n",
    "para = neural_network.parameters()\n",
    "optimizer = torch.optim.Adam(para, lr=0.001)\n",
    "loss_list = []\n",
    "for t in range(epochs):\n",
    "    for i, data in enumerate(train_loader):\n",
    "        images, labels = data\n",
    "        optimizer.zero_grad()\n",
    "        outputs = neural_network(images.cuda())\n",
    "        loss = loss_function(outputs.cuda(), labels.cuda())\n",
    "        loss.backward()\n",
    "        optimizer.step()\n",
    "# For debugging purpose\n",
    "    loss_list.append(loss.data.cpu().numpy())\n",
    "# For debugging purpose\n",
    "print(loss.data)\n",
    "plt.plot(range(epochs), loss_list)\n",
    "plt.show()  \n",
    "\n"
   ]
  },
  {
   "cell_type": "code",
   "execution_count": 7,
   "metadata": {},
   "outputs": [],
   "source": [
    "# Testing the trained model\n",
    "def test(model):\n",
    "    correct = 0\n",
    "    total = 0\n",
    "    save_one = 0\n",
    "\n",
    "    with torch.no_grad():\n",
    "        for data in test_loader:\n",
    "            images, labels = data\n",
    "            images = images.cuda()\n",
    "            labels = labels.cuda()\n",
    "            outputs = model(images)\n",
    "            _, predicted = torch.max(outputs.data.cuda(), 1)\n",
    "            _ = _.cuda()\n",
    "            predicted = predicted.cuda()\n",
    "            total += labels.size(0)\n",
    "            correct += (predicted == labels).sum().item()\n",
    "#     print(correct)\n",
    "    acc = (100.0 * correct / total)\n",
    "    print(\"Accuracy:\" , acc)\n",
    "    return acc"
   ]
  },
  {
   "cell_type": "code",
   "execution_count": 8,
   "metadata": {},
   "outputs": [
    {
     "name": "stdout",
     "output_type": "stream",
     "text": [
      "Accuracy with original model\n",
      "Accuracy: 98.25\n"
     ]
    },
    {
     "data": {
      "text/plain": [
       "98.25"
      ]
     },
     "execution_count": 8,
     "metadata": {},
     "output_type": "execute_result"
    }
   ],
   "source": [
    "print(\"Accuracy with original model\")\n",
    "test(neural_network)"
   ]
  },
  {
   "cell_type": "code",
   "execution_count": 9,
   "metadata": {},
   "outputs": [],
   "source": [
    "w1 = neural_network.input_layer.weight.data\n",
    "w2 = neural_network.hidden_layer1.weight.data\n",
    "w3 = neural_network.hidden_layer2.weight.data\n",
    "w4 = neural_network.hidden_layer3.weight.data\n",
    "w5 = neural_network.hidden_layer4.weight.data\n",
    "w_last_layer = neural_network.output_layer.weight.data"
   ]
  },
  {
   "cell_type": "code",
   "execution_count": 10,
   "metadata": {},
   "outputs": [],
   "source": [
    "u1,s1,v1 = torch.svd(w1)\n",
    "u2,s2,v2 = torch.svd(w2)\n",
    "u3,s3,v3 = torch.svd(w3)\n",
    "u4,s4,v4 = torch.svd(w4)\n",
    "u5,s5,v5 = torch.svd(w5)\n",
    "state_dict = neural_network.state_dict()"
   ]
  },
  {
   "cell_type": "code",
   "execution_count": 11,
   "metadata": {},
   "outputs": [
    {
     "name": "stdout",
     "output_type": "stream",
     "text": [
      "\n",
      "torch.Size([1024, 784])\n",
      "Accuracy when d is  10\n",
      "Accuracy: 49.94\n",
      "\n",
      "torch.Size([1024, 784])\n",
      "Accuracy when d is  20\n",
      "Accuracy: 93.15\n",
      "\n",
      "torch.Size([1024, 784])\n",
      "Accuracy when d is  50\n",
      "Accuracy: 97.95\n",
      "\n",
      "torch.Size([1024, 784])\n",
      "Accuracy when d is  100\n",
      "Accuracy: 98.18\n",
      "\n",
      "torch.Size([1024, 784])\n",
      "Accuracy when d is  200\n",
      "Accuracy: 98.21\n",
      "\n",
      "torch.Size([1024, 784])\n",
      "Accuracy when d is  full\n",
      "Accuracy: 98.25\n"
     ]
    }
   ],
   "source": [
    "d= [10,20,50,100,200, 'full']\n",
    "acc_list = []\n",
    "for item in d:\n",
    "    print()\n",
    "    if item != 'full':\n",
    "        w1_new = torch.mm(u1[:,0:item],torch.mm(s1.diag()[0:item,0:item],v1[:,0:item].t()))\n",
    "        w2_new = torch.mm(u2[:,0:item],torch.mm(s2.diag()[0:item,0:item],v2[:,0:item].t()))\n",
    "        w3_new = torch.mm(u3[:,0:item],torch.mm(s3.diag()[0:item,0:item],v3[:,0:item].t()))\n",
    "        w4_new = torch.mm(u4[:,0:item],torch.mm(s4.diag()[0:item,0:item],v4[:,0:item].t()))\n",
    "        w5_new = torch.mm(u5[:,0:item],torch.mm(s5.diag()[0:item,0:item],v5[:,0:item].t()))\n",
    "    else:\n",
    "        w1_new = torch.mm(u1,torch.mm(s1.diag(),v1.t()))\n",
    "        w2_new = torch.mm(u2,torch.mm(s2.diag(),v2.t()))\n",
    "        w3_new = torch.mm(u3,torch.mm(s3.diag(),v3.t()))\n",
    "        w4_new = torch.mm(u4,torch.mm(s4.diag(),v4.t()))\n",
    "        w5_new = torch.mm(u5,torch.mm(s5.diag(),v5.t()))\n",
    "    print(w1_new.shape)\n",
    "        \n",
    "    state_dict['input_layer.weight'] = w1_new\n",
    "    state_dict['hidden_layer1.weight'] = w2_new\n",
    "    state_dict['hidden_layer2.weight'] = w3_new\n",
    "    state_dict['hidden_layer3.weight'] = w4_new\n",
    "    state_dict['hidden_layer4.weight'] = w5_new\n",
    "    \n",
    "    neural_network.load_state_dict(state_dict)\n",
    "    print(\"Accuracy when d is \", item)\n",
    "    acc = test(neural_network)\n",
    "    acc_list.append(acc)"
   ]
  },
  {
   "cell_type": "code",
   "execution_count": 12,
   "metadata": {},
   "outputs": [
    {
     "data": {
      "text/plain": [
       "[<matplotlib.lines.Line2D at 0x27b8d6cff60>]"
      ]
     },
     "execution_count": 12,
     "metadata": {},
     "output_type": "execute_result"
    },
    {
     "data": {
      "image/png": "[encoded data removed]",
      "text/plain": [
       "<Figure size 432x288 with 1 Axes>"
      ]
     },
     "metadata": {},
     "output_type": "display_data"
    }
   ],
   "source": [
    "plt.plot(d,acc_list)"
   ]
  },
  {
   "cell_type": "code",
   "execution_count": 13,
   "metadata": {},
   "outputs": [],
   "source": [
    "# setting d = 20\n",
    "item = 20\n",
    "u1, v_hat1 = u1[:,0:item] , torch.mm(s1.diag()[0:item,0:item],v1[:,0:item].t())\n",
    "u2, v_hat2 = u2[:,0:item] , torch.mm(s2.diag()[0:item,0:item],v2[:,0:item].t())\n",
    "u3, v_hat3 = u3[:,0:item] , torch.mm(s3.diag()[0:item,0:item],v3[:,0:item].t())\n",
    "u4, v_hat4 = u4[:,0:item] , torch.mm(s4.diag()[0:item,0:item],v4[:,0:item].t())\n",
    "u5, v_hat5 = u5[:,0:item] , torch.mm(s5.diag()[0:item,0:item],v5[:,0:item].t())\n",
    "\n",
    "class NeuralNet_Compressed(nn.Module):\n",
    "    def __init__(self):\n",
    "        super(NeuralNet_Compressed, self).__init__()\n",
    "        \n",
    "        self.layer_v_hat1 = nn.Linear(28*28, 20)\n",
    "        self.layer_u1 = nn.Linear(20, 1024)\n",
    "        \n",
    "        self.layer_v_hat2 = nn.Linear(1024, 20)\n",
    "        self.layer_u2 = nn.Linear(20, 1024)\n",
    "        \n",
    "        self.layer_v_hat3 = nn.Linear(1024, 20)\n",
    "        self.layer_u3 = nn.Linear(20, 1024)\n",
    "        \n",
    "        self.layer_v_hat4 = nn.Linear(1024, 20)\n",
    "        self.layer_u4 = nn.Linear(20, 1024)\n",
    "        \n",
    "        self.layer_v_hat5 = nn.Linear(1024, 20)\n",
    "        self.layer_u5 = nn.Linear(20, 1024)\n",
    "        \n",
    "        \n",
    "        self.output_layer = nn.Linear(1024, 10)\n",
    "        self.activation = nn.ReLU()\n",
    "\n",
    "    def forward(self, data):\n",
    "        data = data.view(-1, 28 * 28).cuda()\n",
    "        self.data = data\n",
    "        \n",
    "        self.output = self.activation(self.layer_v_hat1(data))\n",
    "        \n",
    "        self.output = self.activation(\n",
    "            self.layer_u1(self.output)\n",
    "        )\n",
    "        \n",
    "        self.output = self.activation(\n",
    "            self.layer_v_hat2(self.output)\n",
    "        )\n",
    "        \n",
    "        self.output = self.activation(\n",
    "            self.layer_u2(self.output)\n",
    "        )\n",
    "        self.output = self.activation(\n",
    "            self.layer_v_hat3(self.output)\n",
    "        )\n",
    "        \n",
    "        self.output = self.activation(\n",
    "            self.layer_u3(self.output)\n",
    "        )\n",
    "        self.output = self.activation(\n",
    "            self.layer_v_hat4(self.output)\n",
    "        )\n",
    "       \n",
    "        self.output = self.activation(\n",
    "            self.layer_u4(self.output)\n",
    "        )\n",
    "        \n",
    "        self.output = self.activation(\n",
    "            self.layer_v_hat5(self.output)\n",
    "        )\n",
    "        \n",
    "        self.output = self.activation(\n",
    "            self.layer_u5(self.output)\n",
    "        )\n",
    "      \n",
    "        \n",
    "        self.final_output = self.output_layer(self.output)\n",
    "        self.softmax_output = torch.nn.functional.log_softmax(self.final_output, dim=1)\n",
    "        return self.softmax_output\n",
    "\n",
    "model_compressed = NeuralNet_Compressed().cuda()\n",
    "\n",
    "\n",
    "state_dict = model_compressed.state_dict()\n",
    "\n",
    "state_dict['layer_v_hat1.weight'] = v_hat1\n",
    "state_dict['layer_u1.weight'] = u1\n",
    "\n",
    "state_dict['layer_v_hat2.weight'] = v_hat2\n",
    "state_dict['layer_u2.weight'] = u2\n",
    "\n",
    "state_dict['layer_v_hat3.weight'] = v_hat3\n",
    "state_dict['layer_u3.weight'] = u3\n",
    "\n",
    "state_dict['layer_v_hat4.weight'] = v_hat4\n",
    "state_dict['layer_u4.weight'] = u4\n",
    "\n",
    "state_dict['layer_v_hat5.weight'] = v_hat5\n",
    "state_dict['layer_u5.weight'] = u5\n",
    "\n",
    "state_dict['output_layer.weight'] = w_last_layer\n",
    "\n",
    "\n",
    "model_compressed.load_state_dict(state_dict)"
   ]
  },
  {
   "cell_type": "code",
   "execution_count": 14,
   "metadata": {},
   "outputs": [
    {
     "name": "stdout",
     "output_type": "stream",
     "text": [
      "----------------------------------------------------------------\n",
      "        Layer (type)               Output Shape         Param #\n",
      "================================================================\n",
      "            Linear-1                   [-1, 20]          15,700\n",
      "              ReLU-2                   [-1, 20]               0\n",
      "            Linear-3                 [-1, 1024]          21,504\n",
      "              ReLU-4                 [-1, 1024]               0\n",
      "            Linear-5                   [-1, 20]          20,500\n",
      "              ReLU-6                   [-1, 20]               0\n",
      "            Linear-7                 [-1, 1024]          21,504\n",
      "              ReLU-8                 [-1, 1024]               0\n",
      "            Linear-9                   [-1, 20]          20,500\n",
      "             ReLU-10                   [-1, 20]               0\n",
      "           Linear-11                 [-1, 1024]          21,504\n",
      "             ReLU-12                 [-1, 1024]               0\n",
      "           Linear-13                   [-1, 20]          20,500\n",
      "             ReLU-14                   [-1, 20]               0\n",
      "           Linear-15                 [-1, 1024]          21,504\n",
      "             ReLU-16                 [-1, 1024]               0\n",
      "           Linear-17                   [-1, 20]          20,500\n",
      "             ReLU-18                   [-1, 20]               0\n",
      "           Linear-19                 [-1, 1024]          21,504\n",
      "             ReLU-20                 [-1, 1024]               0\n",
      "           Linear-21                   [-1, 10]          10,250\n",
      "================================================================\n",
      "Total params: 215,470\n",
      "Trainable params: 215,470\n",
      "Non-trainable params: 0\n",
      "----------------------------------------------------------------\n",
      "Input size (MB): 0.00\n",
      "Forward/backward pass size (MB): 0.08\n",
      "Params size (MB): 0.82\n",
      "Estimated Total Size (MB): 0.90\n",
      "----------------------------------------------------------------\n"
     ]
    }
   ],
   "source": [
    "summary(model_compressed, (28,28))"
   ]
  },
  {
   "cell_type": "code",
   "execution_count": 15,
   "metadata": {},
   "outputs": [],
   "source": [
    "loss_function = nn.CrossEntropyLoss()\n",
    "para = model_compressed.parameters()\n",
    "optimizer = torch.optim.Adam(para, lr=0.001)\n",
    "loss_list = []\n",
    "for t in range(epochs):\n",
    "    for i, data in enumerate(train_loader):\n",
    "        images, labels = data\n",
    "        optimizer.zero_grad()\n",
    "        outputs = model_compressed(images.cuda())\n",
    "        loss = loss_function(outputs.cuda(), labels.cuda())\n",
    "        loss.backward()\n",
    "        optimizer.step()"
   ]
  },
  {
   "cell_type": "code",
   "execution_count": 16,
   "metadata": {},
   "outputs": [
    {
     "name": "stdout",
     "output_type": "stream",
     "text": [
      "Accuracy: 96.93\n"
     ]
    },
    {
     "data": {
      "text/plain": [
       "96.93"
      ]
     },
     "execution_count": 16,
     "metadata": {},
     "output_type": "execute_result"
    }
   ],
   "source": [
    "test(model_compressed)"
   ]
  },
  {
   "cell_type": "code",
   "execution_count": null,
   "metadata": {},
   "outputs": [],
   "source": []
  }
 ],
 "metadata": {
  "kernelspec": {
   "display_name": "Python 3",
   "language": "python",
   "name": "python3"
  },
  "language_info": {
   "codemirror_mode": {
    "name": "ipython",
    "version": 3
   },
   "file_extension": ".py",
   "mimetype": "text/x-python",
   "name": "python",
   "nbconvert_exporter": "python",
   "pygments_lexer": "ipython3",
   "version": "3.6.5"
  }
 },
 "nbformat": 4,
 "nbformat_minor": 2
}
